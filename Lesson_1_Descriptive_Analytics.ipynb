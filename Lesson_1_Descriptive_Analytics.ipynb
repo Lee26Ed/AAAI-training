{
 "cells": [
  {
   "cell_type": "code",
   "execution_count": null,
   "id": "6a8ca26d",
   "metadata": {},
   "outputs": [],
   "source": [
    "import pandas as pd\n",
    "from math import floor, ceil\n",
    "import matplotlib.pyplot as plt\n",
    "import numpy as np\n",
    "import seaborn as sns\n",
    "from IPython.display import Image"
   ]
  },
  {
   "cell_type": "markdown",
   "id": "55828baa",
   "metadata": {},
   "source": [
    "# What is the purpose of Descriptive Analytics?\n",
    "\n",
    "Data comes in many shapes and forms and often in large quantities. The human mind is incapable of knowing what to do with large amounts of information. \n",
    "\n",
    "### The purpose of Descriptive Analytics is to summarize data into insightful statistics that solve a business problem. "
   ]
  },
  {
   "cell_type": "markdown",
   "id": "663383b8",
   "metadata": {},
   "source": [
    "# Our first sample dataset- Hotel Reservations"
   ]
  },
  {
   "cell_type": "code",
   "execution_count": null,
   "id": "ef59051b",
   "metadata": {},
   "outputs": [],
   "source": [
    "# Reading the dataset into a pandas dataframe\n",
    "reservations_df = pd.read_csv(\"Data/hotel_data.csv\")\n",
    "print(f\"Imported data. There are {reservations_df.shape[0]} rows and {reservations_df.shape[1]} columns in the dataset\")"
   ]
  },
  {
   "cell_type": "code",
   "execution_count": null,
   "id": "29b7ed33",
   "metadata": {},
   "outputs": [],
   "source": [
    "# Show the first few rows\n",
    "reservations_df"
   ]
  },
  {
   "cell_type": "markdown",
   "id": "df1eeab9",
   "metadata": {},
   "source": [
    "### N.B.: Data Quality\n",
    "In all data science projects, we must confirm data quality by checking such things as:\n",
    "- Missing entries for each column\n",
    "- Primary keys of tables\n",
    "- Duplicated primary keys of tables\n",
    "- Full entries duplicated\n",
    "- Outliers in column values"
   ]
  },
  {
   "cell_type": "markdown",
   "id": "26009a3e",
   "metadata": {},
   "source": [
    "### Data Dictionary\n",
    "#### What does each column represent\n",
    "\n",
    "\n",
    "Booking_ID: unique identifier of each booking\n",
    "\n",
    "no_of_adults: Number of adults\n",
    "\n",
    "no_of_children: Number of Children\n",
    "\n",
    "no_of_weekend_nights: Number of weekend nights (Saturday or Sunday) the guest stayed or booked to stay at the hotel\n",
    "\n",
    "no_of_week_nights: Number of week nights (Monday to Friday) the guest stayed or booked to stay at the hotel\n",
    "\n",
    "type_of_meal_plan: Type of meal plan booked by the customer:\n",
    "\n",
    "required_car_parking_space: Does the customer require a car parking space? (0 - No, 1- Yes)\n",
    "\n",
    "room_type_reserved: Type of room reserved by the customer. The values are ciphered (encoded) by INN Hotels.\n",
    "\n",
    "lead_time: Number of days between the date of booking and the arrival date\n",
    "\n",
    "arrival_year: Year of arrival date\n",
    "\n",
    "arrival_month: Month of arrival date\n",
    "\n",
    "arrival_date: Date of the month\n",
    "\n",
    "market_segment_type: Market segment designation.\n",
    "\n",
    "repeated_guest: Is the customer a repeated guest? (0 - No, 1- Yes)\n",
    "\n",
    "no_of_previous_cancellations: Number of previous bookings that were canceled by the customer prior to the current booking\n",
    "\n",
    "no_of_previous_bookings_not_canceled: Number of previous bookings not canceled by the customer prior to the current booking\n",
    "\n",
    "avg_price_per_room: Average price per day of the reservation; prices of the rooms are dynamic. (in euros)\n",
    "\n",
    "no_of_special_requests: Total number of special requests made by the customer (e.g. high floor, view from the room, etc)\n",
    "\n",
    "booking_status: Flag indicating if the booking was canceled or not."
   ]
  },
  {
   "cell_type": "markdown",
   "id": "ef00c0af",
   "metadata": {},
   "source": [
    "# Exercise objective\n",
    "\n",
    "Understand how cancellations are influencing overall revenue of the hotel "
   ]
  },
  {
   "cell_type": "markdown",
   "id": "9af5dbbe",
   "metadata": {},
   "source": [
    "# Stats 101\n",
    "\n",
    "Statistics are scalar values that summarize a set of data observations.\n",
    "\n",
    "Exercise: For the data observation set of \"avg_price_per_room\" what are some meaningful statistics?"
   ]
  },
  {
   "cell_type": "code",
   "execution_count": null,
   "id": "e56405b0",
   "metadata": {},
   "outputs": [],
   "source": [
    "prices_df = reservations_df[\"avg_price_per_room\"]\n",
    "prices_df"
   ]
  },
  {
   "cell_type": "markdown",
   "id": "11b3b7ac",
   "metadata": {},
   "source": [
    "## Measures of central tendency\n",
    "These type of statistics summarize what the center of the dataset looks like"
   ]
  },
  {
   "cell_type": "markdown",
   "id": "3a9ca707",
   "metadata": {},
   "source": [
    "## Mean\n",
    "\n",
    "Mean = sum(each_observations)/ total_number_of_observations\n",
    "\n",
    "The mean tells us what the average of the set of data observations is. It's important to note that this measure uses the actual values of all entries in the dataset in its calculation."
   ]
  },
  {
   "cell_type": "code",
   "execution_count": null,
   "id": "1c1d83a2",
   "metadata": {},
   "outputs": [],
   "source": [
    "# Option 1: Pure python way\n",
    "sum(value for value in prices_df)/sum(1 for value in prices_df)"
   ]
  },
  {
   "cell_type": "code",
   "execution_count": null,
   "id": "fc443206",
   "metadata": {},
   "outputs": [],
   "source": [
    "# Option 2: using pandas to write formula\n",
    "prices_df.sum()/prices_df.count()"
   ]
  },
  {
   "cell_type": "code",
   "execution_count": null,
   "id": "5f2025ea",
   "metadata": {},
   "outputs": [],
   "source": [
    "# Option 3: Leveraging the function available in pandas.\n",
    "prices_df.mean()"
   ]
  },
  {
   "cell_type": "markdown",
   "id": "95440089",
   "metadata": {},
   "source": [
    "The average price of a night over the entire dataset is 103 Euros. (Kinda expensive if you ask me)"
   ]
  },
  {
   "cell_type": "markdown",
   "id": "16827987",
   "metadata": {},
   "source": [
    "### N.B. There are many ways to code these statistics using python and pandas, we'll now focus on the most compact way (Option 3)"
   ]
  },
  {
   "cell_type": "markdown",
   "id": "07dc7084",
   "metadata": {},
   "source": [
    "# Median\n",
    "median =  The value of the entry located at exactly half way through the set of data observations if it were ordered\n",
    "\n",
    "e.g. set of data observations (1,2,2,5,5): The median is the 3rd entry = 2\n",
    "\n",
    "Note that the calculation of the median only uses the value of one of the data observations the one in the middle."
   ]
  },
  {
   "cell_type": "code",
   "execution_count": null,
   "id": "a329831f",
   "metadata": {},
   "outputs": [],
   "source": [
    "prices_df.median()"
   ]
  },
  {
   "cell_type": "markdown",
   "id": "85388795",
   "metadata": {},
   "source": [
    "## N.B. The median is a special case of quantiles where quantiles represented the entry located n-th way through the set of data observations if it were ordered."
   ]
  },
  {
   "cell_type": "code",
   "execution_count": null,
   "id": "fdc0c832",
   "metadata": {},
   "outputs": [],
   "source": [
    "prices_df.quantile(0.5)"
   ]
  },
  {
   "cell_type": "code",
   "execution_count": null,
   "id": "6720b909",
   "metadata": {},
   "outputs": [],
   "source": [
    "prices_df.quantile(0.25)"
   ]
  },
  {
   "cell_type": "markdown",
   "id": "4eac394a",
   "metadata": {},
   "source": [
    "# Mode\n",
    "\n",
    "mode= The value of the entry that appears the most frequently in the set of data observations\n",
    "\n",
    "Note that the mode, like the median, only uses the value of one of the entries in the dataset, the most common one. "
   ]
  },
  {
   "cell_type": "code",
   "execution_count": null,
   "id": "137fbbda",
   "metadata": {},
   "outputs": [],
   "source": [
    "prices_df.mode()[0]"
   ]
  },
  {
   "cell_type": "markdown",
   "id": "b4228ddf",
   "metadata": {},
   "source": [
    "# The Relationship between Mean, Median and Mode\n",
    "\n",
    "When the mean, median and mode have all the same value, it is a sign that the data is symmetric.\n",
    "\n",
    "N.B. This doesn't happen too often with small datasets of randome processes but as data becomes larger, they often get closer to each other."
   ]
  },
  {
   "cell_type": "code",
   "execution_count": null,
   "id": "ab2b13e1",
   "metadata": {},
   "outputs": [],
   "source": [
    "# Example of when a set of data observations has mean, median and mode equal\n",
    "artificial = np.array([1,2,3,3,3,4,5])\n",
    "art_df = pd.DataFrame (artificial, columns = ['value'])[\"value\"]\n",
    "mean = art_df.mean()\n",
    "median = art_df.median()\n",
    "mode = art_df.mode()\n",
    "print(f\"Mean: {mean}, Median: {median}, Mode: {mode[0]}\")"
   ]
  },
  {
   "cell_type": "markdown",
   "id": "b923b186",
   "metadata": {},
   "source": [
    "# Measures of dispersion\n",
    "\n",
    "Measure how wide the possible values of a set of data observations can be"
   ]
  },
  {
   "cell_type": "markdown",
   "id": "b9da861c",
   "metadata": {},
   "source": [
    "# Range\n",
    "Range = maximum_value -  minimum_value"
   ]
  },
  {
   "cell_type": "code",
   "execution_count": null,
   "id": "e81920e2",
   "metadata": {},
   "outputs": [],
   "source": [
    "prices_df.max() - prices_df.min()"
   ]
  },
  {
   "cell_type": "markdown",
   "id": "a4bec3e3",
   "metadata": {},
   "source": [
    "# Standard Deviation\n",
    "\n",
    "Measures how far observations are from the mean"
   ]
  },
  {
   "cell_type": "code",
   "execution_count": null,
   "id": "f01bdd21",
   "metadata": {},
   "outputs": [],
   "source": [
    "# get the image\n",
    "Image(url=\"images/standard_dev.png\", width=800, height=800)"
   ]
  },
  {
   "cell_type": "code",
   "execution_count": null,
   "id": "12a1c922",
   "metadata": {},
   "outputs": [],
   "source": [
    "prices_df.std()"
   ]
  },
  {
   "cell_type": "markdown",
   "id": "0921e29d",
   "metadata": {},
   "source": [
    "# Interquantile measurements\n",
    "\n",
    "IQ_measure = quantile_r - quantile_s (r>s)"
   ]
  },
  {
   "cell_type": "code",
   "execution_count": null,
   "id": "2a99f722",
   "metadata": {},
   "outputs": [],
   "source": [
    "prices_df.quantile(0.75)-prices_df.quantile(0.25)"
   ]
  },
  {
   "cell_type": "markdown",
   "id": "fc35e1f2",
   "metadata": {},
   "source": [
    "# Visualizing the data"
   ]
  },
  {
   "cell_type": "markdown",
   "id": "8a32aa17",
   "metadata": {},
   "source": [
    "# Histogram\n",
    "\n",
    "Used to show the frequencies of continuous data"
   ]
  },
  {
   "cell_type": "code",
   "execution_count": null,
   "id": "90438976",
   "metadata": {},
   "outputs": [],
   "source": [
    "plt.hist(prices_df, bins=100)\n",
    "plt.show()"
   ]
  },
  {
   "cell_type": "markdown",
   "id": "598e8894",
   "metadata": {},
   "source": [
    "# Box Plot\n",
    "Used to show the distribution of the data"
   ]
  },
  {
   "cell_type": "code",
   "execution_count": null,
   "id": "b1927a72",
   "metadata": {},
   "outputs": [],
   "source": [
    "sns.boxplot(x=\"avg_price_per_room\", orient=\"h\", data=reservations_df, y=\"booking_status\")"
   ]
  },
  {
   "cell_type": "markdown",
   "id": "ef83a499",
   "metadata": {},
   "source": [
    "# Bar chart\n",
    "\n",
    "Used for catgorical data (data with word values) to show their frequency"
   ]
  },
  {
   "cell_type": "code",
   "execution_count": null,
   "id": "e0d0a4f9",
   "metadata": {
    "scrolled": true
   },
   "outputs": [],
   "source": [
    "sns.catplot(x='market_segment_type', data=reservations_df, hue=\"booking_status\", kind='count')"
   ]
  },
  {
   "cell_type": "markdown",
   "id": "04e9af91",
   "metadata": {},
   "source": [
    "# Analysis: Extracting insight by controlling some variables"
   ]
  },
  {
   "cell_type": "markdown",
   "id": "73a40b28",
   "metadata": {},
   "source": [
    "# Who is getting these very low or free rates?"
   ]
  },
  {
   "cell_type": "code",
   "execution_count": null,
   "id": "cbc2fe12",
   "metadata": {},
   "outputs": [],
   "source": [
    "# Look by market segment and number of weekend nights\n",
    "freebies_df = reservations_df[reservations_df[\"avg_price_per_room\"] == 0].copy()\n",
    "sns.catplot(x='no_of_weekend_nights', data=freebies_df, hue=\"market_segment_type\", kind='count')"
   ]
  },
  {
   "cell_type": "markdown",
   "id": "412395b3",
   "metadata": {},
   "source": [
    "Most compliementary stays are not during the weekend"
   ]
  },
  {
   "cell_type": "code",
   "execution_count": null,
   "id": "13987247",
   "metadata": {},
   "outputs": [],
   "source": [
    "# Now let's create a field for total number of nights\n",
    "freebies_df[\"total_nights\"] = freebies_df[\"no_of_weekend_nights\"]+freebies_df[\"no_of_week_nights\"]\n",
    "sns.catplot(x='total_nights', data=freebies_df, hue=\"market_segment_type\", kind='count')"
   ]
  },
  {
   "cell_type": "markdown",
   "id": "d5653096",
   "metadata": {},
   "source": [
    "Most are for one night during the week."
   ]
  },
  {
   "cell_type": "code",
   "execution_count": null,
   "id": "b4401d32",
   "metadata": {},
   "outputs": [],
   "source": [
    "sns.catplot(x='total_nights', data=freebies_df, hue=\"room_type_reserved\", kind='count')    "
   ]
  },
  {
   "cell_type": "markdown",
   "id": "80225a3d",
   "metadata": {},
   "source": [
    "Most are for room type 1"
   ]
  },
  {
   "cell_type": "markdown",
   "id": "bc7c43ee",
   "metadata": {},
   "source": [
    "# What's the average price for room type 1?"
   ]
  },
  {
   "cell_type": "code",
   "execution_count": null,
   "id": "788528a3",
   "metadata": {},
   "outputs": [],
   "source": [
    "room_1_no_0s = reservations_df[(reservations_df[\"room_type_reserved\"] == \"Room_Type 1\") \n",
    "                & (reservations_df[\"avg_price_per_room\"] > 0)].copy()\n",
    "room_1_prices = room_1_no_0s[\"avg_price_per_room\"]\n",
    "room_1_prices.describe()"
   ]
  },
  {
   "cell_type": "code",
   "execution_count": null,
   "id": "5da08005",
   "metadata": {},
   "outputs": [],
   "source": [
    "sns.boxplot(x=\"avg_price_per_room\", orient=\"h\", data=room_1_no_0s, y=\"arrival_month\")"
   ]
  },
  {
   "cell_type": "code",
   "execution_count": null,
   "id": "2641b4d4",
   "metadata": {},
   "outputs": [],
   "source": [
    "order = [f\"2017_{a}\" for a in range(7,13,1)] + [f\"2018_{a}\" for a in range(1,13,1)]\n",
    "room_1_no_0s[\"year_month\"] = room_1_no_0s[\"arrival_year\"].astype(\"str\")+\"_\"+room_1_no_0s[\"arrival_month\"].astype(\"str\")\n",
    "sns.boxplot(x=\"avg_price_per_room\", orient=\"h\", data=room_1_no_0s, y=\"year_month\", order=order)"
   ]
  },
  {
   "cell_type": "markdown",
   "id": "faba237a",
   "metadata": {},
   "source": [
    "Most seem to land between 90 - 110 Euros per night with Summer time being the more expensive months"
   ]
  },
  {
   "cell_type": "markdown",
   "id": "e2075377",
   "metadata": {},
   "source": [
    "# How does the price for room type differ?"
   ]
  },
  {
   "cell_type": "code",
   "execution_count": null,
   "id": "6e3ccacd",
   "metadata": {},
   "outputs": [],
   "source": [
    "room_prices = reservations_df[(reservations_df[\"avg_price_per_room\"] > 0)]\n",
    "sns.boxplot(x=\"avg_price_per_room\", orient=\"h\", data=room_prices, y=\"room_type_reserved\")"
   ]
  },
  {
   "cell_type": "markdown",
   "id": "d74147eb",
   "metadata": {},
   "source": [
    "# How much revenue would they recover by lowering their complementary nights service?"
   ]
  },
  {
   "cell_type": "code",
   "execution_count": null,
   "id": "340ed324",
   "metadata": {},
   "outputs": [],
   "source": [
    "# First let's calculate the average prices for each room type , year, and month (excluding the 0s- complementary)\n",
    "\n",
    "avg_room_prices = room_prices[[\"arrival_year\",\"arrival_month\",\"room_type_reserved\", \"avg_price_per_room\"]]\\\n",
    ".groupby([\"arrival_year\",\"arrival_month\",\"room_type_reserved\",]).mean().reset_index().sort_values(by=[\"room_type_reserved\", \"arrival_year\", \"arrival_month\"])\n",
    "avg_room_prices"
   ]
  },
  {
   "cell_type": "code",
   "execution_count": null,
   "id": "c701fb13",
   "metadata": {},
   "outputs": [],
   "source": [
    "# Next let's calculate the total number of complementary nights for each room\n",
    "complementary_nights = freebies_df[[\"arrival_year\", \"arrival_month\", \"room_type_reserved\", \"total_nights\"]]\\\n",
    ".groupby([\"arrival_year\",\"arrival_month\", \"room_type_reserved\"]).sum().reset_index()\n",
    "complementary_nights"
   ]
  },
  {
   "cell_type": "code",
   "execution_count": null,
   "id": "5b2aeed7",
   "metadata": {},
   "outputs": [],
   "source": [
    "# Now let's combine the two to do our calculation\n",
    "full_complementary_info =complementary_nights.merge(avg_room_prices,\n",
    "                           how=\"left\",\n",
    "                           on=[\"arrival_year\", \"arrival_month\", \"room_type_reserved\"]\n",
    "                          ).fillna(room_prices[\"avg_price_per_room\"].mean())\n",
    "full_complementary_info"
   ]
  },
  {
   "cell_type": "code",
   "execution_count": null,
   "id": "d870c4e4",
   "metadata": {},
   "outputs": [],
   "source": [
    "# Now we calculate what the total cost is\n",
    "full_complementary_info[\"potential_revenue\"] = full_complementary_info[\"total_nights\"]*full_complementary_info[\"avg_price_per_room\"]\n",
    "full_complementary_info.sort_values('potential_revenue', ascending=False)"
   ]
  },
  {
   "cell_type": "code",
   "execution_count": null,
   "id": "686aea6a",
   "metadata": {},
   "outputs": [],
   "source": [
    "# What is the total revenue lost to complementary bookings\n",
    "total_lost_rev = full_complementary_info[\"potential_revenue\"].sum()\n",
    "total_lost_rev"
   ]
  },
  {
   "cell_type": "code",
   "execution_count": null,
   "id": "25588ccf",
   "metadata": {},
   "outputs": [],
   "source": [
    "# What is their total revenue for the period\n",
    "reservations_df[\"total_nights\"] = reservations_df[\"no_of_weekend_nights\"]+reservations_df[\"no_of_week_nights\"]\n",
    "reservations_df[\"revenue\"] = reservations_df[\"total_nights\"] * reservations_df[\"avg_price_per_room\"] \n",
    "total_revenue = reservations_df[\"revenue\"].sum()\n",
    "total_revenue"
   ]
  },
  {
   "cell_type": "code",
   "execution_count": null,
   "id": "c031686a",
   "metadata": {},
   "outputs": [],
   "source": [
    "# What percentage is lost to complementary bookings\n",
    "total_lost_rev/total_revenue*100"
   ]
  },
  {
   "cell_type": "markdown",
   "id": "7aeb3617",
   "metadata": {},
   "source": [
    "# What is another source of lost revenue? Cancellations"
   ]
  },
  {
   "cell_type": "code",
   "execution_count": null,
   "id": "149fa6c5",
   "metadata": {},
   "outputs": [],
   "source": [
    "# Let's calculate what the percentage of the total revenue is lost due to cancellations\n",
    "cancelled_nights = reservations_df[reservations_df[\"booking_status\"] == \"Canceled\"]\n",
    "cancelled_summary = cancelled_nights[[\"arrival_year\", \"arrival_month\", \"room_type_reserved\", \"total_nights\"]]\\\n",
    ".groupby([\"arrival_year\",\"arrival_month\", \"room_type_reserved\"]).sum().reset_index()\n",
    "cancelled_summary"
   ]
  },
  {
   "cell_type": "code",
   "execution_count": null,
   "id": "68b51312",
   "metadata": {},
   "outputs": [],
   "source": [
    "# Now let's combine the two to do our calculation\n",
    "full_cancelled_info =cancelled_summary.merge(avg_room_prices,\n",
    "                           how=\"left\",\n",
    "                           on=[\"arrival_year\", \"arrival_month\", \"room_type_reserved\"]\n",
    "                          ).fillna(room_prices[\"avg_price_per_room\"].mean())\n",
    "full_cancelled_info"
   ]
  },
  {
   "cell_type": "code",
   "execution_count": null,
   "id": "8399335a",
   "metadata": {},
   "outputs": [],
   "source": [
    "# Now we calculate what the total cost is\n",
    "full_cancelled_info[\"potential_revenue\"] = full_cancelled_info[\"total_nights\"]*full_cancelled_info[\"avg_price_per_room\"]\n",
    "full_cancelled_info.sort_values('potential_revenue', ascending=False)"
   ]
  },
  {
   "cell_type": "code",
   "execution_count": null,
   "id": "449a0e69",
   "metadata": {},
   "outputs": [],
   "source": [
    "# What is the total revenue lost to cancelled bookings\n",
    "total_lost_rev_cancel = full_cancelled_info[\"potential_revenue\"].sum()\n",
    "total_lost_rev_cancel"
   ]
  },
  {
   "cell_type": "code",
   "execution_count": null,
   "id": "6776f79a",
   "metadata": {},
   "outputs": [],
   "source": [
    "# What percentage does that represent over the total revenue\n",
    "total_lost_rev_cancel/total_revenue*100"
   ]
  },
  {
   "cell_type": "markdown",
   "id": "50ece086",
   "metadata": {},
   "source": [
    "# Initial findings of the Analysis\n",
    "A potential of 37\\% of the current total revenue is being lost due to cancelled bookings, mostly from bookings of Room_Type_1 during the peak season.\n",
    "\n",
    "Our complementary booking program is sustainable as it currently only represents only 0.7% of revenue of the entire period."
   ]
  },
  {
   "cell_type": "markdown",
   "id": "1535b310",
   "metadata": {},
   "source": [
    "# Assignment:\n",
    "\n",
    "Perform the same analysis conducted for complementary bookings on cancelled bookings, present your conclusions."
   ]
  }
 ],
 "metadata": {
  "kernelspec": {
   "display_name": "aaai_stats_tutorial",
   "language": "python",
   "name": "aaai_stats_tutorial"
  },
  "language_info": {
   "codemirror_mode": {
    "name": "ipython",
    "version": 3
   },
   "file_extension": ".py",
   "mimetype": "text/x-python",
   "name": "python",
   "nbconvert_exporter": "python",
   "pygments_lexer": "ipython3",
   "version": "3.11.1"
  }
 },
 "nbformat": 4,
 "nbformat_minor": 5
}
