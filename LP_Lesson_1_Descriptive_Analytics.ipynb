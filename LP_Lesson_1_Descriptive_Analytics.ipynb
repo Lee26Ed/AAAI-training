{
 "cells": [
  {
   "cell_type": "code",
   "execution_count": 1,
   "id": "6a8ca26d",
   "metadata": {},
   "outputs": [],
   "source": [
    "import pandas as pd\n",
    "from math import floor, ceil\n",
    "import matplotlib.pyplot as plt\n",
    "import numpy as np\n",
    "import seaborn as sns\n",
    "from IPython.display import Image"
   ]
  },
  {
   "cell_type": "markdown",
   "id": "55828baa",
   "metadata": {},
   "source": [
    "# What is the purpose of Descriptive Analytics?\n",
    "\n",
    "Data comes in many shapes and forms and often in large quantities. The human mind is incapable of knowing what to do with large amounts of information. \n",
    "\n",
    "### The purpose of Descriptive Analytics is to summarize data into insightful statistics that solve a business problem. "
   ]
  },
  {
   "cell_type": "markdown",
   "id": "663383b8",
   "metadata": {},
   "source": [
    "# Our first sample dataset- Hotel Reservations"
   ]
  },
  {
   "cell_type": "code",
   "execution_count": 2,
   "id": "ef59051b",
   "metadata": {},
   "outputs": [
    {
     "name": "stdout",
     "output_type": "stream",
     "text": [
      "Imported data. There are 36275 rows and 19 columns in the dataset\n"
     ]
    }
   ],
   "source": [
    "# Reading the dataset into a pandas dataframe\n",
    "reservations_df = pd.read_csv(\"Data/hotel_data.csv\")\n",
    "print(f\"Imported data. There are {reservations_df.shape[0]} rows and {reservations_df.shape[1]} columns in the dataset\")"
   ]
  },
  {
   "cell_type": "code",
   "execution_count": 3,
   "id": "29b7ed33",
   "metadata": {},
   "outputs": [
    {
     "data": {
      "text/html": [
       "<div>\n",
       "<style scoped>\n",
       "    .dataframe tbody tr th:only-of-type {\n",
       "        vertical-align: middle;\n",
       "    }\n",
       "\n",
       "    .dataframe tbody tr th {\n",
       "        vertical-align: top;\n",
       "    }\n",
       "\n",
       "    .dataframe thead th {\n",
       "        text-align: right;\n",
       "    }\n",
       "</style>\n",
       "<table border=\"1\" class=\"dataframe\">\n",
       "  <thead>\n",
       "    <tr style=\"text-align: right;\">\n",
       "      <th></th>\n",
       "      <th>Booking_ID</th>\n",
       "      <th>no_of_adults</th>\n",
       "      <th>no_of_children</th>\n",
       "      <th>no_of_weekend_nights</th>\n",
       "      <th>no_of_week_nights</th>\n",
       "      <th>type_of_meal_plan</th>\n",
       "      <th>required_car_parking_space</th>\n",
       "      <th>room_type_reserved</th>\n",
       "      <th>lead_time</th>\n",
       "      <th>arrival_year</th>\n",
       "      <th>arrival_month</th>\n",
       "      <th>arrival_date</th>\n",
       "      <th>market_segment_type</th>\n",
       "      <th>repeated_guest</th>\n",
       "      <th>no_of_previous_cancellations</th>\n",
       "      <th>no_of_previous_bookings_not_canceled</th>\n",
       "      <th>avg_price_per_room</th>\n",
       "      <th>no_of_special_requests</th>\n",
       "      <th>booking_status</th>\n",
       "    </tr>\n",
       "  </thead>\n",
       "  <tbody>\n",
       "    <tr>\n",
       "      <th>0</th>\n",
       "      <td>INN00001</td>\n",
       "      <td>2</td>\n",
       "      <td>0</td>\n",
       "      <td>1</td>\n",
       "      <td>2</td>\n",
       "      <td>Meal Plan 1</td>\n",
       "      <td>0</td>\n",
       "      <td>Room_Type 1</td>\n",
       "      <td>224</td>\n",
       "      <td>2017</td>\n",
       "      <td>10</td>\n",
       "      <td>2</td>\n",
       "      <td>Offline</td>\n",
       "      <td>0</td>\n",
       "      <td>0</td>\n",
       "      <td>0</td>\n",
       "      <td>65.00</td>\n",
       "      <td>0</td>\n",
       "      <td>Not_Canceled</td>\n",
       "    </tr>\n",
       "    <tr>\n",
       "      <th>1</th>\n",
       "      <td>INN00002</td>\n",
       "      <td>2</td>\n",
       "      <td>0</td>\n",
       "      <td>2</td>\n",
       "      <td>3</td>\n",
       "      <td>Not Selected</td>\n",
       "      <td>0</td>\n",
       "      <td>Room_Type 1</td>\n",
       "      <td>5</td>\n",
       "      <td>2018</td>\n",
       "      <td>11</td>\n",
       "      <td>6</td>\n",
       "      <td>Online</td>\n",
       "      <td>0</td>\n",
       "      <td>0</td>\n",
       "      <td>0</td>\n",
       "      <td>106.68</td>\n",
       "      <td>1</td>\n",
       "      <td>Not_Canceled</td>\n",
       "    </tr>\n",
       "    <tr>\n",
       "      <th>2</th>\n",
       "      <td>INN00003</td>\n",
       "      <td>1</td>\n",
       "      <td>0</td>\n",
       "      <td>2</td>\n",
       "      <td>1</td>\n",
       "      <td>Meal Plan 1</td>\n",
       "      <td>0</td>\n",
       "      <td>Room_Type 1</td>\n",
       "      <td>1</td>\n",
       "      <td>2018</td>\n",
       "      <td>2</td>\n",
       "      <td>28</td>\n",
       "      <td>Online</td>\n",
       "      <td>0</td>\n",
       "      <td>0</td>\n",
       "      <td>0</td>\n",
       "      <td>60.00</td>\n",
       "      <td>0</td>\n",
       "      <td>Canceled</td>\n",
       "    </tr>\n",
       "    <tr>\n",
       "      <th>3</th>\n",
       "      <td>INN00004</td>\n",
       "      <td>2</td>\n",
       "      <td>0</td>\n",
       "      <td>0</td>\n",
       "      <td>2</td>\n",
       "      <td>Meal Plan 1</td>\n",
       "      <td>0</td>\n",
       "      <td>Room_Type 1</td>\n",
       "      <td>211</td>\n",
       "      <td>2018</td>\n",
       "      <td>5</td>\n",
       "      <td>20</td>\n",
       "      <td>Online</td>\n",
       "      <td>0</td>\n",
       "      <td>0</td>\n",
       "      <td>0</td>\n",
       "      <td>100.00</td>\n",
       "      <td>0</td>\n",
       "      <td>Canceled</td>\n",
       "    </tr>\n",
       "    <tr>\n",
       "      <th>4</th>\n",
       "      <td>INN00005</td>\n",
       "      <td>2</td>\n",
       "      <td>0</td>\n",
       "      <td>1</td>\n",
       "      <td>1</td>\n",
       "      <td>Not Selected</td>\n",
       "      <td>0</td>\n",
       "      <td>Room_Type 1</td>\n",
       "      <td>48</td>\n",
       "      <td>2018</td>\n",
       "      <td>4</td>\n",
       "      <td>11</td>\n",
       "      <td>Online</td>\n",
       "      <td>0</td>\n",
       "      <td>0</td>\n",
       "      <td>0</td>\n",
       "      <td>94.50</td>\n",
       "      <td>0</td>\n",
       "      <td>Canceled</td>\n",
       "    </tr>\n",
       "    <tr>\n",
       "      <th>...</th>\n",
       "      <td>...</td>\n",
       "      <td>...</td>\n",
       "      <td>...</td>\n",
       "      <td>...</td>\n",
       "      <td>...</td>\n",
       "      <td>...</td>\n",
       "      <td>...</td>\n",
       "      <td>...</td>\n",
       "      <td>...</td>\n",
       "      <td>...</td>\n",
       "      <td>...</td>\n",
       "      <td>...</td>\n",
       "      <td>...</td>\n",
       "      <td>...</td>\n",
       "      <td>...</td>\n",
       "      <td>...</td>\n",
       "      <td>...</td>\n",
       "      <td>...</td>\n",
       "      <td>...</td>\n",
       "    </tr>\n",
       "    <tr>\n",
       "      <th>36270</th>\n",
       "      <td>INN36271</td>\n",
       "      <td>3</td>\n",
       "      <td>0</td>\n",
       "      <td>2</td>\n",
       "      <td>6</td>\n",
       "      <td>Meal Plan 1</td>\n",
       "      <td>0</td>\n",
       "      <td>Room_Type 4</td>\n",
       "      <td>85</td>\n",
       "      <td>2018</td>\n",
       "      <td>8</td>\n",
       "      <td>3</td>\n",
       "      <td>Online</td>\n",
       "      <td>0</td>\n",
       "      <td>0</td>\n",
       "      <td>0</td>\n",
       "      <td>167.80</td>\n",
       "      <td>1</td>\n",
       "      <td>Not_Canceled</td>\n",
       "    </tr>\n",
       "    <tr>\n",
       "      <th>36271</th>\n",
       "      <td>INN36272</td>\n",
       "      <td>2</td>\n",
       "      <td>0</td>\n",
       "      <td>1</td>\n",
       "      <td>3</td>\n",
       "      <td>Meal Plan 1</td>\n",
       "      <td>0</td>\n",
       "      <td>Room_Type 1</td>\n",
       "      <td>228</td>\n",
       "      <td>2018</td>\n",
       "      <td>10</td>\n",
       "      <td>17</td>\n",
       "      <td>Online</td>\n",
       "      <td>0</td>\n",
       "      <td>0</td>\n",
       "      <td>0</td>\n",
       "      <td>90.95</td>\n",
       "      <td>2</td>\n",
       "      <td>Canceled</td>\n",
       "    </tr>\n",
       "    <tr>\n",
       "      <th>36272</th>\n",
       "      <td>INN36273</td>\n",
       "      <td>2</td>\n",
       "      <td>0</td>\n",
       "      <td>2</td>\n",
       "      <td>6</td>\n",
       "      <td>Meal Plan 1</td>\n",
       "      <td>0</td>\n",
       "      <td>Room_Type 1</td>\n",
       "      <td>148</td>\n",
       "      <td>2018</td>\n",
       "      <td>7</td>\n",
       "      <td>1</td>\n",
       "      <td>Online</td>\n",
       "      <td>0</td>\n",
       "      <td>0</td>\n",
       "      <td>0</td>\n",
       "      <td>98.39</td>\n",
       "      <td>2</td>\n",
       "      <td>Not_Canceled</td>\n",
       "    </tr>\n",
       "    <tr>\n",
       "      <th>36273</th>\n",
       "      <td>INN36274</td>\n",
       "      <td>2</td>\n",
       "      <td>0</td>\n",
       "      <td>0</td>\n",
       "      <td>3</td>\n",
       "      <td>Not Selected</td>\n",
       "      <td>0</td>\n",
       "      <td>Room_Type 1</td>\n",
       "      <td>63</td>\n",
       "      <td>2018</td>\n",
       "      <td>4</td>\n",
       "      <td>21</td>\n",
       "      <td>Online</td>\n",
       "      <td>0</td>\n",
       "      <td>0</td>\n",
       "      <td>0</td>\n",
       "      <td>94.50</td>\n",
       "      <td>0</td>\n",
       "      <td>Canceled</td>\n",
       "    </tr>\n",
       "    <tr>\n",
       "      <th>36274</th>\n",
       "      <td>INN36275</td>\n",
       "      <td>2</td>\n",
       "      <td>0</td>\n",
       "      <td>1</td>\n",
       "      <td>2</td>\n",
       "      <td>Meal Plan 1</td>\n",
       "      <td>0</td>\n",
       "      <td>Room_Type 1</td>\n",
       "      <td>207</td>\n",
       "      <td>2018</td>\n",
       "      <td>12</td>\n",
       "      <td>30</td>\n",
       "      <td>Offline</td>\n",
       "      <td>0</td>\n",
       "      <td>0</td>\n",
       "      <td>0</td>\n",
       "      <td>161.67</td>\n",
       "      <td>0</td>\n",
       "      <td>Not_Canceled</td>\n",
       "    </tr>\n",
       "  </tbody>\n",
       "</table>\n",
       "<p>36275 rows × 19 columns</p>\n",
       "</div>"
      ],
      "text/plain": [
       "      Booking_ID  no_of_adults  no_of_children  no_of_weekend_nights  \\\n",
       "0       INN00001             2               0                     1   \n",
       "1       INN00002             2               0                     2   \n",
       "2       INN00003             1               0                     2   \n",
       "3       INN00004             2               0                     0   \n",
       "4       INN00005             2               0                     1   \n",
       "...          ...           ...             ...                   ...   \n",
       "36270   INN36271             3               0                     2   \n",
       "36271   INN36272             2               0                     1   \n",
       "36272   INN36273             2               0                     2   \n",
       "36273   INN36274             2               0                     0   \n",
       "36274   INN36275             2               0                     1   \n",
       "\n",
       "       no_of_week_nights type_of_meal_plan  required_car_parking_space  \\\n",
       "0                      2       Meal Plan 1                           0   \n",
       "1                      3      Not Selected                           0   \n",
       "2                      1       Meal Plan 1                           0   \n",
       "3                      2       Meal Plan 1                           0   \n",
       "4                      1      Not Selected                           0   \n",
       "...                  ...               ...                         ...   \n",
       "36270                  6       Meal Plan 1                           0   \n",
       "36271                  3       Meal Plan 1                           0   \n",
       "36272                  6       Meal Plan 1                           0   \n",
       "36273                  3      Not Selected                           0   \n",
       "36274                  2       Meal Plan 1                           0   \n",
       "\n",
       "      room_type_reserved  lead_time  arrival_year  arrival_month  \\\n",
       "0            Room_Type 1        224          2017             10   \n",
       "1            Room_Type 1          5          2018             11   \n",
       "2            Room_Type 1          1          2018              2   \n",
       "3            Room_Type 1        211          2018              5   \n",
       "4            Room_Type 1         48          2018              4   \n",
       "...                  ...        ...           ...            ...   \n",
       "36270        Room_Type 4         85          2018              8   \n",
       "36271        Room_Type 1        228          2018             10   \n",
       "36272        Room_Type 1        148          2018              7   \n",
       "36273        Room_Type 1         63          2018              4   \n",
       "36274        Room_Type 1        207          2018             12   \n",
       "\n",
       "       arrival_date market_segment_type  repeated_guest  \\\n",
       "0                 2             Offline               0   \n",
       "1                 6              Online               0   \n",
       "2                28              Online               0   \n",
       "3                20              Online               0   \n",
       "4                11              Online               0   \n",
       "...             ...                 ...             ...   \n",
       "36270             3              Online               0   \n",
       "36271            17              Online               0   \n",
       "36272             1              Online               0   \n",
       "36273            21              Online               0   \n",
       "36274            30             Offline               0   \n",
       "\n",
       "       no_of_previous_cancellations  no_of_previous_bookings_not_canceled  \\\n",
       "0                                 0                                     0   \n",
       "1                                 0                                     0   \n",
       "2                                 0                                     0   \n",
       "3                                 0                                     0   \n",
       "4                                 0                                     0   \n",
       "...                             ...                                   ...   \n",
       "36270                             0                                     0   \n",
       "36271                             0                                     0   \n",
       "36272                             0                                     0   \n",
       "36273                             0                                     0   \n",
       "36274                             0                                     0   \n",
       "\n",
       "       avg_price_per_room  no_of_special_requests booking_status  \n",
       "0                   65.00                       0   Not_Canceled  \n",
       "1                  106.68                       1   Not_Canceled  \n",
       "2                   60.00                       0       Canceled  \n",
       "3                  100.00                       0       Canceled  \n",
       "4                   94.50                       0       Canceled  \n",
       "...                   ...                     ...            ...  \n",
       "36270              167.80                       1   Not_Canceled  \n",
       "36271               90.95                       2       Canceled  \n",
       "36272               98.39                       2   Not_Canceled  \n",
       "36273               94.50                       0       Canceled  \n",
       "36274              161.67                       0   Not_Canceled  \n",
       "\n",
       "[36275 rows x 19 columns]"
      ]
     },
     "execution_count": 3,
     "metadata": {},
     "output_type": "execute_result"
    }
   ],
   "source": [
    "# Show the first few rows\n",
    "reservations_df"
   ]
  },
  {
   "cell_type": "markdown",
   "id": "df1eeab9",
   "metadata": {},
   "source": [
    "### N.B.: Data Quality\n",
    "In all data science projects, we must confirm data quality by checking such things as:\n",
    "- Missing entries for each column\n",
    "- Primary keys of tables\n",
    "- Duplicated primary keys of tables\n",
    "- Full entries duplicated\n",
    "- Outliers in column values"
   ]
  },
  {
   "cell_type": "markdown",
   "id": "26009a3e",
   "metadata": {},
   "source": [
    "### Data Dictionary\n",
    "#### What does each column represent\n",
    "\n",
    "\n",
    "Booking_ID: unique identifier of each booking\n",
    "\n",
    "no_of_adults: Number of adults\n",
    "\n",
    "no_of_children: Number of Children\n",
    "\n",
    "no_of_weekend_nights: Number of weekend nights (Saturday or Sunday) the guest stayed or booked to stay at the hotel\n",
    "\n",
    "no_of_week_nights: Number of week nights (Monday to Friday) the guest stayed or booked to stay at the hotel\n",
    "\n",
    "type_of_meal_plan: Type of meal plan booked by the customer:\n",
    "\n",
    "required_car_parking_space: Does the customer require a car parking space? (0 - No, 1- Yes)\n",
    "\n",
    "room_type_reserved: Type of room reserved by the customer. The values are ciphered (encoded) by INN Hotels.\n",
    "\n",
    "lead_time: Number of days between the date of booking and the arrival date\n",
    "\n",
    "arrival_year: Year of arrival date\n",
    "\n",
    "arrival_month: Month of arrival date\n",
    "\n",
    "arrival_date: Date of the month\n",
    "\n",
    "market_segment_type: Market segment designation.\n",
    "\n",
    "repeated_guest: Is the customer a repeated guest? (0 - No, 1- Yes)\n",
    "\n",
    "no_of_previous_cancellations: Number of previous bookings that were canceled by the customer prior to the current booking\n",
    "\n",
    "no_of_previous_bookings_not_canceled: Number of previous bookings not canceled by the customer prior to the current booking\n",
    "\n",
    "avg_price_per_room: Average price per day of the reservation; prices of the rooms are dynamic. (in euros)\n",
    "\n",
    "no_of_special_requests: Total number of special requests made by the customer (e.g. high floor, view from the room, etc)\n",
    "\n",
    "booking_status: Flag indicating if the booking was canceled or not."
   ]
  },
  {
   "cell_type": "markdown",
   "id": "ef00c0af",
   "metadata": {},
   "source": [
    "# Exercise objective\n",
    "\n",
    "Understand how cancellations are influencing overall revenue of the hotel "
   ]
  },
  {
   "cell_type": "markdown",
   "id": "9af5dbbe",
   "metadata": {},
   "source": [
    "# Stats 101\n",
    "\n",
    "Statistics are scalar values that summarize a set of data observations.\n",
    "\n",
    "Exercise: For the data observation set of \"avg_price_per_room\" what are some meaningful statistics?"
   ]
  },
  {
   "cell_type": "code",
   "execution_count": 4,
   "id": "e56405b0",
   "metadata": {},
   "outputs": [
    {
     "data": {
      "text/plain": [
       "0         65.00\n",
       "1        106.68\n",
       "2         60.00\n",
       "3        100.00\n",
       "4         94.50\n",
       "          ...  \n",
       "36270    167.80\n",
       "36271     90.95\n",
       "36272     98.39\n",
       "36273     94.50\n",
       "36274    161.67\n",
       "Name: avg_price_per_room, Length: 36275, dtype: float64"
      ]
     },
     "execution_count": 4,
     "metadata": {},
     "output_type": "execute_result"
    }
   ],
   "source": [
    "prices_df = reservations_df[\"avg_price_per_room\"]\n",
    "prices_df"
   ]
  },
  {
   "cell_type": "markdown",
   "id": "11b3b7ac",
   "metadata": {},
   "source": [
    "## Measures of central tendency\n",
    "These type of statistics summarize what the center of the dataset looks like"
   ]
  },
  {
   "cell_type": "markdown",
   "id": "3a9ca707",
   "metadata": {},
   "source": [
    "## Mean\n",
    "\n",
    "Mean = sum(each_observations)/ total_number_of_observations\n",
    "\n",
    "The mean tells us what the average of the set of data observations is. It's important to note that this measure uses the actual values of all entries in the dataset in its calculation."
   ]
  },
  {
   "cell_type": "code",
   "execution_count": 5,
   "id": "1c1d83a2",
   "metadata": {},
   "outputs": [
    {
     "data": {
      "text/plain": [
       "103.4235390764958"
      ]
     },
     "execution_count": 5,
     "metadata": {},
     "output_type": "execute_result"
    }
   ],
   "source": [
    "# Option 1: Pure python way\n",
    "sum(value for value in prices_df)/sum(1 for value in prices_df)"
   ]
  },
  {
   "cell_type": "code",
   "execution_count": 6,
   "id": "fc443206",
   "metadata": {},
   "outputs": [
    {
     "data": {
      "text/plain": [
       "103.42353907649897"
      ]
     },
     "execution_count": 6,
     "metadata": {},
     "output_type": "execute_result"
    }
   ],
   "source": [
    "# Option 2: using pandas to write formula\n",
    "prices_df.sum()/prices_df.count()"
   ]
  },
  {
   "cell_type": "code",
   "execution_count": 7,
   "id": "5f2025ea",
   "metadata": {},
   "outputs": [
    {
     "data": {
      "text/plain": [
       "103.42353907649897"
      ]
     },
     "execution_count": 7,
     "metadata": {},
     "output_type": "execute_result"
    }
   ],
   "source": [
    "# Option 3: Leveraging the function available in pandas.\n",
    "prices_df.mean()"
   ]
  },
  {
   "cell_type": "markdown",
   "id": "95440089",
   "metadata": {},
   "source": [
    "The average price of a night over the entire dataset is 103 Euros. (Kinda expensive if you ask me)"
   ]
  },
  {
   "cell_type": "markdown",
   "id": "16827987",
   "metadata": {},
   "source": [
    "### N.B. There are many ways to code these statistics using python and pandas, we'll now focus on the most compact way (Option 3)"
   ]
  },
  {
   "cell_type": "markdown",
   "id": "07dc7084",
   "metadata": {},
   "source": [
    "# Median\n",
    "median =  The value of the entry located at exactly half way through the set of data observations if it were ordered\n",
    "\n",
    "e.g. set of data observations (1,2,2,5,5): The median is the 3rd entry = 2\n",
    "\n",
    "Note that the calculation of the median only uses the value of one of the data observations the one in the middle."
   ]
  },
  {
   "cell_type": "code",
   "execution_count": 8,
   "id": "a329831f",
   "metadata": {},
   "outputs": [
    {
     "data": {
      "text/plain": [
       "99.45"
      ]
     },
     "execution_count": 8,
     "metadata": {},
     "output_type": "execute_result"
    }
   ],
   "source": [
    "prices_df.median()"
   ]
  },
  {
   "cell_type": "markdown",
   "id": "85388795",
   "metadata": {},
   "source": [
    "## N.B. The median is a special case of quantiles where quantiles represented the entry located n-th way through the set of data observations if it were ordered."
   ]
  },
  {
   "cell_type": "code",
   "execution_count": 9,
   "id": "fdc0c832",
   "metadata": {},
   "outputs": [
    {
     "data": {
      "text/plain": [
       "99.45"
      ]
     },
     "execution_count": 9,
     "metadata": {},
     "output_type": "execute_result"
    }
   ],
   "source": [
    "prices_df.quantile(0.5)"
   ]
  },
  {
   "cell_type": "code",
   "execution_count": 10,
   "id": "6720b909",
   "metadata": {},
   "outputs": [
    {
     "data": {
      "text/plain": [
       "80.3"
      ]
     },
     "execution_count": 10,
     "metadata": {},
     "output_type": "execute_result"
    }
   ],
   "source": [
    "prices_df.quantile(0.25)"
   ]
  },
  {
   "cell_type": "markdown",
   "id": "4eac394a",
   "metadata": {},
   "source": [
    "# Mode\n",
    "\n",
    "mode= The value of the entry that appears the most frequently in the set of data observations\n",
    "\n",
    "Note that the mode, like the median, only uses the value of one of the entries in the dataset, the most common one. "
   ]
  },
  {
   "cell_type": "code",
   "execution_count": 11,
   "id": "137fbbda",
   "metadata": {},
   "outputs": [
    {
     "data": {
      "text/plain": [
       "65.0"
      ]
     },
     "execution_count": 11,
     "metadata": {},
     "output_type": "execute_result"
    }
   ],
   "source": [
    "prices_df.mode()[0]"
   ]
  },
  {
   "cell_type": "markdown",
   "id": "b4228ddf",
   "metadata": {},
   "source": [
    "# The Relationship between Mean, Median and Mode\n",
    "\n",
    "When the mean, median and mode have all the same value, it is a sign that the data is symmetric.\n",
    "\n",
    "N.B. This doesn't happen too often with small datasets of randome processes but as data becomes larger, they often get closer to each other."
   ]
  },
  {
   "cell_type": "code",
   "execution_count": 12,
   "id": "ab2b13e1",
   "metadata": {},
   "outputs": [
    {
     "name": "stdout",
     "output_type": "stream",
     "text": [
      "Mean: 3.0, Median: 3.0, Mode: 3\n"
     ]
    }
   ],
   "source": [
    "# Example of when a set of data observations has mean, median and mode equal\n",
    "artificial = np.array([1,2,3,3,3,4,5])\n",
    "art_df = pd.DataFrame (artificial, columns = ['value'])[\"value\"]\n",
    "mean = art_df.mean()\n",
    "median = art_df.median()\n",
    "mode = art_df.mode()\n",
    "print(f\"Mean: {mean}, Median: {median}, Mode: {mode[0]}\")"
   ]
  },
  {
   "cell_type": "markdown",
   "id": "b923b186",
   "metadata": {},
   "source": [
    "# Measures of dispersion\n",
    "\n",
    "Measure how wide the possible values of a set of data observations can be"
   ]
  },
  {
   "cell_type": "markdown",
   "id": "b9da861c",
   "metadata": {},
   "source": [
    "# Range\n",
    "Range = maximum_value -  minimum_value"
   ]
  },
  {
   "cell_type": "code",
   "execution_count": 13,
   "id": "e81920e2",
   "metadata": {},
   "outputs": [
    {
     "data": {
      "text/plain": [
       "540.0"
      ]
     },
     "execution_count": 13,
     "metadata": {},
     "output_type": "execute_result"
    }
   ],
   "source": [
    "prices_df.max() - prices_df.min()"
   ]
  },
  {
   "cell_type": "markdown",
   "id": "a4bec3e3",
   "metadata": {},
   "source": [
    "# Standard Deviation\n",
    "\n",
    "Measures how far observations are from the mean"
   ]
  },
  {
   "cell_type": "code",
   "execution_count": 14,
   "id": "f01bdd21",
   "metadata": {},
   "outputs": [
    {
     "data": {
      "text/html": [
       "<img src=\"images/standard_dev.png\" width=\"800\" height=\"800\"/>"
      ],
      "text/plain": [
       "<IPython.core.display.Image object>"
      ]
     },
     "execution_count": 14,
     "metadata": {},
     "output_type": "execute_result"
    }
   ],
   "source": [
    "# get the image\n",
    "Image(url=\"images/standard_dev.png\", width=800, height=800)"
   ]
  },
  {
   "cell_type": "code",
   "execution_count": 15,
   "id": "12a1c922",
   "metadata": {},
   "outputs": [
    {
     "data": {
      "text/plain": [
       "35.08942403637036"
      ]
     },
     "execution_count": 15,
     "metadata": {},
     "output_type": "execute_result"
    }
   ],
   "source": [
    "prices_df.std()"
   ]
  },
  {
   "cell_type": "markdown",
   "id": "0921e29d",
   "metadata": {},
   "source": [
    "# Interquantile measurements\n",
    "\n",
    "IQ_measure = quantile_r - quantile_s (r>s)"
   ]
  },
  {
   "cell_type": "code",
   "execution_count": 16,
   "id": "2a99f722",
   "metadata": {},
   "outputs": [
    {
     "data": {
      "text/plain": [
       "39.7"
      ]
     },
     "execution_count": 16,
     "metadata": {},
     "output_type": "execute_result"
    }
   ],
   "source": [
    "prices_df.quantile(0.75)-prices_df.quantile(0.25)"
   ]
  },
  {
   "cell_type": "markdown",
   "id": "fc35e1f2",
   "metadata": {},
   "source": [
    "# Visualizing the data"
   ]
  },
  {
   "cell_type": "markdown",
   "id": "8a32aa17",
   "metadata": {},
   "source": [
    "# Histogram\n",
    "\n",
    "Used to show the frequencies of continuous data"
   ]
  },
  {
   "cell_type": "code",
   "execution_count": 17,
   "id": "90438976",
   "metadata": {},
   "outputs": [
    {
     "data": {
      "image/png": "[encoded data removed]",
      "text/plain": [
       "<Figure size 640x480 with 1 Axes>"
      ]
     },
     "metadata": {},
     "output_type": "display_data"
    }
   ],
   "source": [
    "plt.hist(prices_df, bins=100)\n",
    "plt.show()"
   ]
  },
  {
   "cell_type": "markdown",
   "id": "598e8894",
   "metadata": {},
   "source": [
    "# Box Plot\n",
    "Used to show the distribution of the data"
   ]
  },
  {
   "cell_type": "code",
   "execution_count": 18,
   "id": "b1927a72",
   "metadata": {},
   "outputs": [
    {
     "data": {
      "text/plain": [
       "<AxesSubplot: xlabel='avg_price_per_room', ylabel='booking_status'>"
      ]
     },
     "execution_count": 18,
     "metadata": {},
     "output_type": "execute_result"
    },
    {
     "data": {
      "image/png": "[encoded data removed]",
      "text/plain": [
       "<Figure size 640x480 with 1 Axes>"
      ]
     },
     "metadata": {},
     "output_type": "display_data"
    }
   ],
   "source": [
    "sns.boxplot(x=\"avg_price_per_room\", orient=\"h\", data=reservations_df, y=\"booking_status\")"
   ]
  },
  {
   "cell_type": "markdown",
   "id": "ef83a499",
   "metadata": {},
   "source": [
    "# Bar chart\n",
    "\n",
    "Used for catgorical data (data with word values) to show their frequency"
   ]
  },
  {
   "cell_type": "code",
   "execution_count": 19,
   "id": "e0d0a4f9",
   "metadata": {
    "scrolled": true
   },
   "outputs": [
    {
     "data": {
      "text/plain": [
       "<seaborn.axisgrid.FacetGrid at 0x2194c87e650>"
      ]
     },
     "execution_count": 19,
     "metadata": {},
     "output_type": "execute_result"
    },
    {
     "data": {
      "image/png": "[encoded data removed]",
      "text/plain": [
       "<Figure size 645.875x500 with 1 Axes>"
      ]
     },
     "metadata": {},
     "output_type": "display_data"
    }
   ],
   "source": [
    "sns.catplot(x='market_segment_type', data=reservations_df, hue=\"booking_status\", kind='count')"
   ]
  },
  {
   "cell_type": "markdown",
   "id": "04e9af91",
   "metadata": {},
   "source": [
    "# Analysis: Extracting insight by controlling some variables"
   ]
  },
  {
   "cell_type": "markdown",
   "id": "73a40b28",
   "metadata": {},
   "source": [
    "# Who is getting these very low or free rates?"
   ]
  },
  {
   "cell_type": "code",
   "execution_count": 20,
   "id": "cbc2fe12",
   "metadata": {},
   "outputs": [
    {
     "data": {
      "text/plain": [
       "<seaborn.axisgrid.FacetGrid at 0x2194c3bcd00>"
      ]
     },
     "execution_count": 20,
     "metadata": {},
     "output_type": "execute_result"
    },
    {
     "data": {
      "image/png": "[encoded data removed]",
      "text/plain": [
       "<Figure size 666.486x500 with 1 Axes>"
      ]
     },
     "metadata": {},
     "output_type": "display_data"
    }
   ],
   "source": [
    "# Look by market segment and number of weekend nights\n",
    "freebies_df = reservations_df[reservations_df[\"avg_price_per_room\"] == 0].copy()\n",
    "sns.catplot(x='no_of_weekend_nights', data=freebies_df, hue=\"market_segment_type\", kind='count')"
   ]
  },
  {
   "cell_type": "markdown",
   "id": "412395b3",
   "metadata": {},
   "source": [
    "Most compliementary stays are not during the weekend"
   ]
  },
  {
   "cell_type": "code",
   "execution_count": 21,
   "id": "13987247",
   "metadata": {},
   "outputs": [
    {
     "data": {
      "text/plain": [
       "<seaborn.axisgrid.FacetGrid at 0x2194ca11660>"
      ]
     },
     "execution_count": 21,
     "metadata": {},
     "output_type": "execute_result"
    },
    {
     "data": {
      "image/png": "[encoded data removed]",
      "text/plain": [
       "<Figure size 666.486x500 with 1 Axes>"
      ]
     },
     "metadata": {},
     "output_type": "display_data"
    }
   ],
   "source": [
    "# Now let's create a field for total number of nights\n",
    "freebies_df[\"total_nights\"] = freebies_df[\"no_of_weekend_nights\"]+freebies_df[\"no_of_week_nights\"]\n",
    "sns.catplot(x='total_nights', data=freebies_df, hue=\"market_segment_type\", kind='count')"
   ]
  },
  {
   "cell_type": "markdown",
   "id": "d5653096",
   "metadata": {},
   "source": [
    "Most are for one night during the week."
   ]
  },
  {
   "cell_type": "code",
   "execution_count": 22,
   "id": "b4401d32",
   "metadata": {},
   "outputs": [
    {
     "data": {
      "text/plain": [
       "<seaborn.axisgrid.FacetGrid at 0x2194c8e0040>"
      ]
     },
     "execution_count": 22,
     "metadata": {},
     "output_type": "execute_result"
    },
    {
     "data": {
      "image/png": "[encoded data removed]",
      "text/plain": [
       "<Figure size 653.236x500 with 1 Axes>"
      ]
     },
     "metadata": {},
     "output_type": "display_data"
    }
   ],
   "source": [
    "sns.catplot(x='total_nights', data=freebies_df, hue=\"room_type_reserved\", kind='count')    "
   ]
  },
  {
   "cell_type": "markdown",
   "id": "80225a3d",
   "metadata": {},
   "source": [
    "Most are for room type 1"
   ]
  },
  {
   "cell_type": "markdown",
   "id": "bc7c43ee",
   "metadata": {},
   "source": [
    "# What's the average price for room type 1?"
   ]
  },
  {
   "cell_type": "code",
   "execution_count": 23,
   "id": "788528a3",
   "metadata": {},
   "outputs": [
    {
     "data": {
      "text/plain": [
       "count    27742.000000\n",
       "mean        97.260050\n",
       "std         25.781008\n",
       "min          0.500000\n",
       "25%         79.065000\n",
       "50%         94.500000\n",
       "75%        112.500000\n",
       "max        540.000000\n",
       "Name: avg_price_per_room, dtype: float64"
      ]
     },
     "execution_count": 23,
     "metadata": {},
     "output_type": "execute_result"
    }
   ],
   "source": [
    "room_1_no_0s = reservations_df[(reservations_df[\"room_type_reserved\"] == \"Room_Type 1\") \n",
    "                & (reservations_df[\"avg_price_per_room\"] > 0)].copy()\n",
    "room_1_prices = room_1_no_0s[\"avg_price_per_room\"]\n",
    "room_1_prices.describe()"
   ]
  },
  {
   "cell_type": "code",
   "execution_count": 24,
   "id": "5da08005",
   "metadata": {},
   "outputs": [
    {
     "data": {
      "text/plain": [
       "<AxesSubplot: xlabel='avg_price_per_room', ylabel='arrival_month'>"
      ]
     },
     "execution_count": 24,
     "metadata": {},
     "output_type": "execute_result"
    },
    {
     "data": {
      "image/png": "[encoded data removed]",
      "text/plain": [
       "<Figure size 640x480 with 1 Axes>"
      ]
     },
     "metadata": {},
     "output_type": "display_data"
    }
   ],
   "source": [
    "sns.boxplot(x=\"avg_price_per_room\", orient=\"h\", data=room_1_no_0s, y=\"arrival_month\")"
   ]
  },
  {
   "cell_type": "code",
   "execution_count": 25,
   "id": "2641b4d4",
   "metadata": {},
   "outputs": [
    {
     "data": {
      "text/plain": [
       "<AxesSubplot: xlabel='avg_price_per_room', ylabel='year_month'>"
      ]
     },
     "execution_count": 25,
     "metadata": {},
     "output_type": "execute_result"
    },
    {
     "data": {
      "image/png": "[encoded data removed]",
      "text/plain": [
       "<Figure size 640x480 with 1 Axes>"
      ]
     },
     "metadata": {},
     "output_type": "display_data"
    }
   ],
   "source": [
    "order = [f\"2017_{a}\" for a in range(7,13,1)] + [f\"2018_{a}\" for a in range(1,13,1)]\n",
    "room_1_no_0s[\"year_month\"] = room_1_no_0s[\"arrival_year\"].astype(\"str\")+\"_\"+room_1_no_0s[\"arrival_month\"].astype(\"str\")\n",
    "sns.boxplot(x=\"avg_price_per_room\", orient=\"h\", data=room_1_no_0s, y=\"year_month\", order=order)"
   ]
  },
  {
   "cell_type": "markdown",
   "id": "faba237a",
   "metadata": {},
   "source": [
    "Most seem to land between 90 - 110 Euros per night with Summer time being the more expensive months"
   ]
  },
  {
   "cell_type": "markdown",
   "id": "e2075377",
   "metadata": {},
   "source": [
    "# How does the price for room type differ?"
   ]
  },
  {
   "cell_type": "code",
   "execution_count": 26,
   "id": "6e3ccacd",
   "metadata": {},
   "outputs": [
    {
     "data": {
      "text/plain": [
       "<AxesSubplot: xlabel='avg_price_per_room', ylabel='room_type_reserved'>"
      ]
     },
     "execution_count": 26,
     "metadata": {},
     "output_type": "execute_result"
    },
    {
     "data": {
      "image/png": "[encoded data removed]",
      "text/plain": [
       "<Figure size 640x480 with 1 Axes>"
      ]
     },
     "metadata": {},
     "output_type": "display_data"
    }
   ],
   "source": [
    "room_prices = reservations_df[(reservations_df[\"avg_price_per_room\"] > 0)]\n",
    "sns.boxplot(x=\"avg_price_per_room\", orient=\"h\", data=room_prices, y=\"room_type_reserved\")"
   ]
  },
  {
   "cell_type": "markdown",
   "id": "d74147eb",
   "metadata": {},
   "source": [
    "# How much revenue would they recover by lowering their complementary nights service?"
   ]
  },
  {
   "cell_type": "code",
   "execution_count": 27,
   "id": "340ed324",
   "metadata": {},
   "outputs": [
    {
     "data": {
      "text/html": [
       "<div>\n",
       "<style scoped>\n",
       "    .dataframe tbody tr th:only-of-type {\n",
       "        vertical-align: middle;\n",
       "    }\n",
       "\n",
       "    .dataframe tbody tr th {\n",
       "        vertical-align: top;\n",
       "    }\n",
       "\n",
       "    .dataframe thead th {\n",
       "        text-align: right;\n",
       "    }\n",
       "</style>\n",
       "<table border=\"1\" class=\"dataframe\">\n",
       "  <thead>\n",
       "    <tr style=\"text-align: right;\">\n",
       "      <th></th>\n",
       "      <th>arrival_year</th>\n",
       "      <th>arrival_month</th>\n",
       "      <th>room_type_reserved</th>\n",
       "      <th>avg_price_per_room</th>\n",
       "    </tr>\n",
       "  </thead>\n",
       "  <tbody>\n",
       "    <tr>\n",
       "      <th>0</th>\n",
       "      <td>2017</td>\n",
       "      <td>7</td>\n",
       "      <td>Room_Type 1</td>\n",
       "      <td>86.013152</td>\n",
       "    </tr>\n",
       "    <tr>\n",
       "      <th>3</th>\n",
       "      <td>2017</td>\n",
       "      <td>8</td>\n",
       "      <td>Room_Type 1</td>\n",
       "      <td>92.196323</td>\n",
       "    </tr>\n",
       "    <tr>\n",
       "      <th>7</th>\n",
       "      <td>2017</td>\n",
       "      <td>9</td>\n",
       "      <td>Room_Type 1</td>\n",
       "      <td>104.173813</td>\n",
       "    </tr>\n",
       "    <tr>\n",
       "      <th>13</th>\n",
       "      <td>2017</td>\n",
       "      <td>10</td>\n",
       "      <td>Room_Type 1</td>\n",
       "      <td>92.173878</td>\n",
       "    </tr>\n",
       "    <tr>\n",
       "      <th>18</th>\n",
       "      <td>2017</td>\n",
       "      <td>11</td>\n",
       "      <td>Room_Type 1</td>\n",
       "      <td>75.596717</td>\n",
       "    </tr>\n",
       "    <tr>\n",
       "      <th>...</th>\n",
       "      <td>...</td>\n",
       "      <td>...</td>\n",
       "      <td>...</td>\n",
       "      <td>...</td>\n",
       "    </tr>\n",
       "    <tr>\n",
       "      <th>77</th>\n",
       "      <td>2018</td>\n",
       "      <td>8</td>\n",
       "      <td>Room_Type 7</td>\n",
       "      <td>217.442273</td>\n",
       "    </tr>\n",
       "    <tr>\n",
       "      <th>83</th>\n",
       "      <td>2018</td>\n",
       "      <td>9</td>\n",
       "      <td>Room_Type 7</td>\n",
       "      <td>216.487143</td>\n",
       "    </tr>\n",
       "    <tr>\n",
       "      <th>90</th>\n",
       "      <td>2018</td>\n",
       "      <td>10</td>\n",
       "      <td>Room_Type 7</td>\n",
       "      <td>220.806111</td>\n",
       "    </tr>\n",
       "    <tr>\n",
       "      <th>97</th>\n",
       "      <td>2018</td>\n",
       "      <td>11</td>\n",
       "      <td>Room_Type 7</td>\n",
       "      <td>232.500000</td>\n",
       "    </tr>\n",
       "    <tr>\n",
       "      <th>103</th>\n",
       "      <td>2018</td>\n",
       "      <td>12</td>\n",
       "      <td>Room_Type 7</td>\n",
       "      <td>191.730000</td>\n",
       "    </tr>\n",
       "  </tbody>\n",
       "</table>\n",
       "<p>104 rows × 4 columns</p>\n",
       "</div>"
      ],
      "text/plain": [
       "     arrival_year  arrival_month room_type_reserved  avg_price_per_room\n",
       "0            2017              7        Room_Type 1           86.013152\n",
       "3            2017              8        Room_Type 1           92.196323\n",
       "7            2017              9        Room_Type 1          104.173813\n",
       "13           2017             10        Room_Type 1           92.173878\n",
       "18           2017             11        Room_Type 1           75.596717\n",
       "..            ...            ...                ...                 ...\n",
       "77           2018              8        Room_Type 7          217.442273\n",
       "83           2018              9        Room_Type 7          216.487143\n",
       "90           2018             10        Room_Type 7          220.806111\n",
       "97           2018             11        Room_Type 7          232.500000\n",
       "103          2018             12        Room_Type 7          191.730000\n",
       "\n",
       "[104 rows x 4 columns]"
      ]
     },
     "execution_count": 27,
     "metadata": {},
     "output_type": "execute_result"
    }
   ],
   "source": [
    "# First let's calculate the average prices for each room type , year, and month (excluding the 0s- complementary)\n",
    "\n",
    "avg_room_prices = room_prices[[\"arrival_year\",\"arrival_month\",\"room_type_reserved\", \"avg_price_per_room\"]]\\\n",
    ".groupby([\"arrival_year\",\"arrival_month\",\"room_type_reserved\",]).mean().reset_index().sort_values(by=[\"room_type_reserved\", \"arrival_year\", \"arrival_month\"])\n",
    "avg_room_prices"
   ]
  },
  {
   "cell_type": "code",
   "execution_count": 28,
   "id": "c701fb13",
   "metadata": {},
   "outputs": [
    {
     "data": {
      "text/html": [
       "<div>\n",
       "<style scoped>\n",
       "    .dataframe tbody tr th:only-of-type {\n",
       "        vertical-align: middle;\n",
       "    }\n",
       "\n",
       "    .dataframe tbody tr th {\n",
       "        vertical-align: top;\n",
       "    }\n",
       "\n",
       "    .dataframe thead th {\n",
       "        text-align: right;\n",
       "    }\n",
       "</style>\n",
       "<table border=\"1\" class=\"dataframe\">\n",
       "  <thead>\n",
       "    <tr style=\"text-align: right;\">\n",
       "      <th></th>\n",
       "      <th>arrival_year</th>\n",
       "      <th>arrival_month</th>\n",
       "      <th>room_type_reserved</th>\n",
       "      <th>total_nights</th>\n",
       "    </tr>\n",
       "  </thead>\n",
       "  <tbody>\n",
       "    <tr>\n",
       "      <th>0</th>\n",
       "      <td>2017</td>\n",
       "      <td>7</td>\n",
       "      <td>Room_Type 1</td>\n",
       "      <td>5</td>\n",
       "    </tr>\n",
       "    <tr>\n",
       "      <th>1</th>\n",
       "      <td>2017</td>\n",
       "      <td>7</td>\n",
       "      <td>Room_Type 5</td>\n",
       "      <td>1</td>\n",
       "    </tr>\n",
       "    <tr>\n",
       "      <th>2</th>\n",
       "      <td>2017</td>\n",
       "      <td>8</td>\n",
       "      <td>Room_Type 1</td>\n",
       "      <td>56</td>\n",
       "    </tr>\n",
       "    <tr>\n",
       "      <th>3</th>\n",
       "      <td>2017</td>\n",
       "      <td>8</td>\n",
       "      <td>Room_Type 2</td>\n",
       "      <td>15</td>\n",
       "    </tr>\n",
       "    <tr>\n",
       "      <th>4</th>\n",
       "      <td>2017</td>\n",
       "      <td>8</td>\n",
       "      <td>Room_Type 4</td>\n",
       "      <td>5</td>\n",
       "    </tr>\n",
       "    <tr>\n",
       "      <th>...</th>\n",
       "      <td>...</td>\n",
       "      <td>...</td>\n",
       "      <td>...</td>\n",
       "      <td>...</td>\n",
       "    </tr>\n",
       "    <tr>\n",
       "      <th>70</th>\n",
       "      <td>2018</td>\n",
       "      <td>12</td>\n",
       "      <td>Room_Type 1</td>\n",
       "      <td>25</td>\n",
       "    </tr>\n",
       "    <tr>\n",
       "      <th>71</th>\n",
       "      <td>2018</td>\n",
       "      <td>12</td>\n",
       "      <td>Room_Type 2</td>\n",
       "      <td>1</td>\n",
       "    </tr>\n",
       "    <tr>\n",
       "      <th>72</th>\n",
       "      <td>2018</td>\n",
       "      <td>12</td>\n",
       "      <td>Room_Type 4</td>\n",
       "      <td>3</td>\n",
       "    </tr>\n",
       "    <tr>\n",
       "      <th>73</th>\n",
       "      <td>2018</td>\n",
       "      <td>12</td>\n",
       "      <td>Room_Type 6</td>\n",
       "      <td>7</td>\n",
       "    </tr>\n",
       "    <tr>\n",
       "      <th>74</th>\n",
       "      <td>2018</td>\n",
       "      <td>12</td>\n",
       "      <td>Room_Type 7</td>\n",
       "      <td>4</td>\n",
       "    </tr>\n",
       "  </tbody>\n",
       "</table>\n",
       "<p>75 rows × 4 columns</p>\n",
       "</div>"
      ],
      "text/plain": [
       "    arrival_year  arrival_month room_type_reserved  total_nights\n",
       "0           2017              7        Room_Type 1             5\n",
       "1           2017              7        Room_Type 5             1\n",
       "2           2017              8        Room_Type 1            56\n",
       "3           2017              8        Room_Type 2            15\n",
       "4           2017              8        Room_Type 4             5\n",
       "..           ...            ...                ...           ...\n",
       "70          2018             12        Room_Type 1            25\n",
       "71          2018             12        Room_Type 2             1\n",
       "72          2018             12        Room_Type 4             3\n",
       "73          2018             12        Room_Type 6             7\n",
       "74          2018             12        Room_Type 7             4\n",
       "\n",
       "[75 rows x 4 columns]"
      ]
     },
     "execution_count": 28,
     "metadata": {},
     "output_type": "execute_result"
    }
   ],
   "source": [
    "# Next let's calculate the total number of complementary nights for each room\n",
    "complementary_nights = freebies_df[[\"arrival_year\", \"arrival_month\", \"room_type_reserved\", \"total_nights\"]]\\\n",
    ".groupby([\"arrival_year\",\"arrival_month\", \"room_type_reserved\"]).sum().reset_index()\n",
    "complementary_nights"
   ]
  },
  {
   "cell_type": "code",
   "execution_count": 29,
   "id": "5b2aeed7",
   "metadata": {},
   "outputs": [
    {
     "data": {
      "text/html": [
       "<div>\n",
       "<style scoped>\n",
       "    .dataframe tbody tr th:only-of-type {\n",
       "        vertical-align: middle;\n",
       "    }\n",
       "\n",
       "    .dataframe tbody tr th {\n",
       "        vertical-align: top;\n",
       "    }\n",
       "\n",
       "    .dataframe thead th {\n",
       "        text-align: right;\n",
       "    }\n",
       "</style>\n",
       "<table border=\"1\" class=\"dataframe\">\n",
       "  <thead>\n",
       "    <tr style=\"text-align: right;\">\n",
       "      <th></th>\n",
       "      <th>arrival_year</th>\n",
       "      <th>arrival_month</th>\n",
       "      <th>room_type_reserved</th>\n",
       "      <th>total_nights</th>\n",
       "      <th>avg_price_per_room</th>\n",
       "    </tr>\n",
       "  </thead>\n",
       "  <tbody>\n",
       "    <tr>\n",
       "      <th>0</th>\n",
       "      <td>2017</td>\n",
       "      <td>7</td>\n",
       "      <td>Room_Type 1</td>\n",
       "      <td>5</td>\n",
       "      <td>86.013152</td>\n",
       "    </tr>\n",
       "    <tr>\n",
       "      <th>1</th>\n",
       "      <td>2017</td>\n",
       "      <td>7</td>\n",
       "      <td>Room_Type 5</td>\n",
       "      <td>1</td>\n",
       "      <td>105.001088</td>\n",
       "    </tr>\n",
       "    <tr>\n",
       "      <th>2</th>\n",
       "      <td>2017</td>\n",
       "      <td>8</td>\n",
       "      <td>Room_Type 1</td>\n",
       "      <td>56</td>\n",
       "      <td>92.196323</td>\n",
       "    </tr>\n",
       "    <tr>\n",
       "      <th>3</th>\n",
       "      <td>2017</td>\n",
       "      <td>8</td>\n",
       "      <td>Room_Type 2</td>\n",
       "      <td>15</td>\n",
       "      <td>72.867368</td>\n",
       "    </tr>\n",
       "    <tr>\n",
       "      <th>4</th>\n",
       "      <td>2017</td>\n",
       "      <td>8</td>\n",
       "      <td>Room_Type 4</td>\n",
       "      <td>5</td>\n",
       "      <td>112.214286</td>\n",
       "    </tr>\n",
       "    <tr>\n",
       "      <th>...</th>\n",
       "      <td>...</td>\n",
       "      <td>...</td>\n",
       "      <td>...</td>\n",
       "      <td>...</td>\n",
       "      <td>...</td>\n",
       "    </tr>\n",
       "    <tr>\n",
       "      <th>70</th>\n",
       "      <td>2018</td>\n",
       "      <td>12</td>\n",
       "      <td>Room_Type 1</td>\n",
       "      <td>25</td>\n",
       "      <td>86.356871</td>\n",
       "    </tr>\n",
       "    <tr>\n",
       "      <th>71</th>\n",
       "      <td>2018</td>\n",
       "      <td>12</td>\n",
       "      <td>Room_Type 2</td>\n",
       "      <td>1</td>\n",
       "      <td>86.662571</td>\n",
       "    </tr>\n",
       "    <tr>\n",
       "      <th>72</th>\n",
       "      <td>2018</td>\n",
       "      <td>12</td>\n",
       "      <td>Room_Type 4</td>\n",
       "      <td>3</td>\n",
       "      <td>119.609710</td>\n",
       "    </tr>\n",
       "    <tr>\n",
       "      <th>73</th>\n",
       "      <td>2018</td>\n",
       "      <td>12</td>\n",
       "      <td>Room_Type 6</td>\n",
       "      <td>7</td>\n",
       "      <td>168.060000</td>\n",
       "    </tr>\n",
       "    <tr>\n",
       "      <th>74</th>\n",
       "      <td>2018</td>\n",
       "      <td>12</td>\n",
       "      <td>Room_Type 7</td>\n",
       "      <td>4</td>\n",
       "      <td>191.730000</td>\n",
       "    </tr>\n",
       "  </tbody>\n",
       "</table>\n",
       "<p>75 rows × 5 columns</p>\n",
       "</div>"
      ],
      "text/plain": [
       "    arrival_year  arrival_month room_type_reserved  total_nights  \\\n",
       "0           2017              7        Room_Type 1             5   \n",
       "1           2017              7        Room_Type 5             1   \n",
       "2           2017              8        Room_Type 1            56   \n",
       "3           2017              8        Room_Type 2            15   \n",
       "4           2017              8        Room_Type 4             5   \n",
       "..           ...            ...                ...           ...   \n",
       "70          2018             12        Room_Type 1            25   \n",
       "71          2018             12        Room_Type 2             1   \n",
       "72          2018             12        Room_Type 4             3   \n",
       "73          2018             12        Room_Type 6             7   \n",
       "74          2018             12        Room_Type 7             4   \n",
       "\n",
       "    avg_price_per_room  \n",
       "0            86.013152  \n",
       "1           105.001088  \n",
       "2            92.196323  \n",
       "3            72.867368  \n",
       "4           112.214286  \n",
       "..                 ...  \n",
       "70           86.356871  \n",
       "71           86.662571  \n",
       "72          119.609710  \n",
       "73          168.060000  \n",
       "74          191.730000  \n",
       "\n",
       "[75 rows x 5 columns]"
      ]
     },
     "execution_count": 29,
     "metadata": {},
     "output_type": "execute_result"
    }
   ],
   "source": [
    "# Now let's combine the two to do our calculation\n",
    "full_complementary_info =complementary_nights.merge(avg_room_prices,\n",
    "                           how=\"left\",\n",
    "                           on=[\"arrival_year\", \"arrival_month\", \"room_type_reserved\"]\n",
    "                          ).fillna(room_prices[\"avg_price_per_room\"].mean())\n",
    "full_complementary_info"
   ]
  },
  {
   "cell_type": "code",
   "execution_count": 30,
   "id": "d870c4e4",
   "metadata": {},
   "outputs": [
    {
     "data": {
      "text/html": [
       "<div>\n",
       "<style scoped>\n",
       "    .dataframe tbody tr th:only-of-type {\n",
       "        vertical-align: middle;\n",
       "    }\n",
       "\n",
       "    .dataframe tbody tr th {\n",
       "        vertical-align: top;\n",
       "    }\n",
       "\n",
       "    .dataframe thead th {\n",
       "        text-align: right;\n",
       "    }\n",
       "</style>\n",
       "<table border=\"1\" class=\"dataframe\">\n",
       "  <thead>\n",
       "    <tr style=\"text-align: right;\">\n",
       "      <th></th>\n",
       "      <th>arrival_year</th>\n",
       "      <th>arrival_month</th>\n",
       "      <th>room_type_reserved</th>\n",
       "      <th>total_nights</th>\n",
       "      <th>avg_price_per_room</th>\n",
       "      <th>potential_revenue</th>\n",
       "    </tr>\n",
       "  </thead>\n",
       "  <tbody>\n",
       "    <tr>\n",
       "      <th>7</th>\n",
       "      <td>2017</td>\n",
       "      <td>9</td>\n",
       "      <td>Room_Type 1</td>\n",
       "      <td>63</td>\n",
       "      <td>104.173813</td>\n",
       "      <td>6562.950243</td>\n",
       "    </tr>\n",
       "    <tr>\n",
       "      <th>11</th>\n",
       "      <td>2017</td>\n",
       "      <td>10</td>\n",
       "      <td>Room_Type 1</td>\n",
       "      <td>63</td>\n",
       "      <td>92.173878</td>\n",
       "      <td>5806.954294</td>\n",
       "    </tr>\n",
       "    <tr>\n",
       "      <th>20</th>\n",
       "      <td>2017</td>\n",
       "      <td>12</td>\n",
       "      <td>Room_Type 1</td>\n",
       "      <td>69</td>\n",
       "      <td>76.780415</td>\n",
       "      <td>5297.848627</td>\n",
       "    </tr>\n",
       "    <tr>\n",
       "      <th>2</th>\n",
       "      <td>2017</td>\n",
       "      <td>8</td>\n",
       "      <td>Room_Type 1</td>\n",
       "      <td>56</td>\n",
       "      <td>92.196323</td>\n",
       "      <td>5162.994081</td>\n",
       "    </tr>\n",
       "    <tr>\n",
       "      <th>61</th>\n",
       "      <td>2018</td>\n",
       "      <td>10</td>\n",
       "      <td>Room_Type 1</td>\n",
       "      <td>41</td>\n",
       "      <td>104.169808</td>\n",
       "      <td>4270.962134</td>\n",
       "    </tr>\n",
       "    <tr>\n",
       "      <th>...</th>\n",
       "      <td>...</td>\n",
       "      <td>...</td>\n",
       "      <td>...</td>\n",
       "      <td>...</td>\n",
       "      <td>...</td>\n",
       "      <td>...</td>\n",
       "    </tr>\n",
       "    <tr>\n",
       "      <th>17</th>\n",
       "      <td>2017</td>\n",
       "      <td>11</td>\n",
       "      <td>Room_Type 4</td>\n",
       "      <td>1</td>\n",
       "      <td>68.710929</td>\n",
       "      <td>68.710929</td>\n",
       "    </tr>\n",
       "    <tr>\n",
       "      <th>27</th>\n",
       "      <td>2018</td>\n",
       "      <td>1</td>\n",
       "      <td>Room_Type 7</td>\n",
       "      <td>2</td>\n",
       "      <td>1.000000</td>\n",
       "      <td>2.000000</td>\n",
       "    </tr>\n",
       "    <tr>\n",
       "      <th>52</th>\n",
       "      <td>2018</td>\n",
       "      <td>7</td>\n",
       "      <td>Room_Type 6</td>\n",
       "      <td>0</td>\n",
       "      <td>189.665862</td>\n",
       "      <td>0.000000</td>\n",
       "    </tr>\n",
       "    <tr>\n",
       "      <th>62</th>\n",
       "      <td>2018</td>\n",
       "      <td>10</td>\n",
       "      <td>Room_Type 4</td>\n",
       "      <td>0</td>\n",
       "      <td>130.546905</td>\n",
       "      <td>0.000000</td>\n",
       "    </tr>\n",
       "    <tr>\n",
       "      <th>66</th>\n",
       "      <td>2018</td>\n",
       "      <td>11</td>\n",
       "      <td>Room_Type 2</td>\n",
       "      <td>0</td>\n",
       "      <td>84.561875</td>\n",
       "      <td>0.000000</td>\n",
       "    </tr>\n",
       "  </tbody>\n",
       "</table>\n",
       "<p>75 rows × 6 columns</p>\n",
       "</div>"
      ],
      "text/plain": [
       "    arrival_year  arrival_month room_type_reserved  total_nights  \\\n",
       "7           2017              9        Room_Type 1            63   \n",
       "11          2017             10        Room_Type 1            63   \n",
       "20          2017             12        Room_Type 1            69   \n",
       "2           2017              8        Room_Type 1            56   \n",
       "61          2018             10        Room_Type 1            41   \n",
       "..           ...            ...                ...           ...   \n",
       "17          2017             11        Room_Type 4             1   \n",
       "27          2018              1        Room_Type 7             2   \n",
       "52          2018              7        Room_Type 6             0   \n",
       "62          2018             10        Room_Type 4             0   \n",
       "66          2018             11        Room_Type 2             0   \n",
       "\n",
       "    avg_price_per_room  potential_revenue  \n",
       "7           104.173813        6562.950243  \n",
       "11           92.173878        5806.954294  \n",
       "20           76.780415        5297.848627  \n",
       "2            92.196323        5162.994081  \n",
       "61          104.169808        4270.962134  \n",
       "..                 ...                ...  \n",
       "17           68.710929          68.710929  \n",
       "27            1.000000           2.000000  \n",
       "52          189.665862           0.000000  \n",
       "62          130.546905           0.000000  \n",
       "66           84.561875           0.000000  \n",
       "\n",
       "[75 rows x 6 columns]"
      ]
     },
     "execution_count": 30,
     "metadata": {},
     "output_type": "execute_result"
    }
   ],
   "source": [
    "# Now we calculate what the total cost is\n",
    "full_complementary_info[\"potential_revenue\"] = full_complementary_info[\"total_nights\"]*full_complementary_info[\"avg_price_per_room\"]\n",
    "full_complementary_info.sort_values('potential_revenue', ascending=False)"
   ]
  },
  {
   "cell_type": "code",
   "execution_count": 31,
   "id": "686aea6a",
   "metadata": {},
   "outputs": [
    {
     "data": {
      "text/plain": [
       "80206.65806781905"
      ]
     },
     "execution_count": 31,
     "metadata": {},
     "output_type": "execute_result"
    }
   ],
   "source": [
    "# What is the total revenue lost to complementary bookings\n",
    "total_lost_rev = full_complementary_info[\"potential_revenue\"].sum()\n",
    "total_lost_rev"
   ]
  },
  {
   "cell_type": "code",
   "execution_count": 32,
   "id": "25588ccf",
   "metadata": {},
   "outputs": [
    {
     "data": {
      "text/plain": [
       "11347278.74"
      ]
     },
     "execution_count": 32,
     "metadata": {},
     "output_type": "execute_result"
    }
   ],
   "source": [
    "# What is their total revenue for the period\n",
    "reservations_df[\"total_nights\"] = reservations_df[\"no_of_weekend_nights\"]+reservations_df[\"no_of_week_nights\"]\n",
    "reservations_df[\"revenue\"] = reservations_df[\"total_nights\"] * reservations_df[\"avg_price_per_room\"] \n",
    "total_revenue = reservations_df[\"revenue\"].sum()\n",
    "total_revenue"
   ]
  },
  {
   "cell_type": "code",
   "execution_count": 33,
   "id": "c031686a",
   "metadata": {},
   "outputs": [
    {
     "data": {
      "text/plain": [
       "0.7068360609234409"
      ]
     },
     "execution_count": 33,
     "metadata": {},
     "output_type": "execute_result"
    }
   ],
   "source": [
    "# What percentage is lost to complementary bookings\n",
    "total_lost_rev/total_revenue*100"
   ]
  },
  {
   "cell_type": "markdown",
   "id": "7aeb3617",
   "metadata": {},
   "source": [
    "# What is another source of lost revenue? Cancellations"
   ]
  },
  {
   "cell_type": "code",
   "execution_count": 34,
   "id": "149fa6c5",
   "metadata": {},
   "outputs": [
    {
     "data": {
      "text/html": [
       "<div>\n",
       "<style scoped>\n",
       "    .dataframe tbody tr th:only-of-type {\n",
       "        vertical-align: middle;\n",
       "    }\n",
       "\n",
       "    .dataframe tbody tr th {\n",
       "        vertical-align: top;\n",
       "    }\n",
       "\n",
       "    .dataframe thead th {\n",
       "        text-align: right;\n",
       "    }\n",
       "</style>\n",
       "<table border=\"1\" class=\"dataframe\">\n",
       "  <thead>\n",
       "    <tr style=\"text-align: right;\">\n",
       "      <th></th>\n",
       "      <th>arrival_year</th>\n",
       "      <th>arrival_month</th>\n",
       "      <th>room_type_reserved</th>\n",
       "      <th>total_nights</th>\n",
       "    </tr>\n",
       "  </thead>\n",
       "  <tbody>\n",
       "    <tr>\n",
       "      <th>0</th>\n",
       "      <td>2017</td>\n",
       "      <td>7</td>\n",
       "      <td>Room_Type 1</td>\n",
       "      <td>811</td>\n",
       "    </tr>\n",
       "    <tr>\n",
       "      <th>1</th>\n",
       "      <td>2017</td>\n",
       "      <td>7</td>\n",
       "      <td>Room_Type 2</td>\n",
       "      <td>13</td>\n",
       "    </tr>\n",
       "    <tr>\n",
       "      <th>2</th>\n",
       "      <td>2017</td>\n",
       "      <td>7</td>\n",
       "      <td>Room_Type 4</td>\n",
       "      <td>10</td>\n",
       "    </tr>\n",
       "    <tr>\n",
       "      <th>3</th>\n",
       "      <td>2017</td>\n",
       "      <td>8</td>\n",
       "      <td>Room_Type 1</td>\n",
       "      <td>635</td>\n",
       "    </tr>\n",
       "    <tr>\n",
       "      <th>4</th>\n",
       "      <td>2017</td>\n",
       "      <td>8</td>\n",
       "      <td>Room_Type 2</td>\n",
       "      <td>34</td>\n",
       "    </tr>\n",
       "    <tr>\n",
       "      <th>...</th>\n",
       "      <td>...</td>\n",
       "      <td>...</td>\n",
       "      <td>...</td>\n",
       "      <td>...</td>\n",
       "    </tr>\n",
       "    <tr>\n",
       "      <th>82</th>\n",
       "      <td>2018</td>\n",
       "      <td>12</td>\n",
       "      <td>Room_Type 1</td>\n",
       "      <td>1171</td>\n",
       "    </tr>\n",
       "    <tr>\n",
       "      <th>83</th>\n",
       "      <td>2018</td>\n",
       "      <td>12</td>\n",
       "      <td>Room_Type 2</td>\n",
       "      <td>62</td>\n",
       "    </tr>\n",
       "    <tr>\n",
       "      <th>84</th>\n",
       "      <td>2018</td>\n",
       "      <td>12</td>\n",
       "      <td>Room_Type 4</td>\n",
       "      <td>282</td>\n",
       "    </tr>\n",
       "    <tr>\n",
       "      <th>85</th>\n",
       "      <td>2018</td>\n",
       "      <td>12</td>\n",
       "      <td>Room_Type 6</td>\n",
       "      <td>86</td>\n",
       "    </tr>\n",
       "    <tr>\n",
       "      <th>86</th>\n",
       "      <td>2018</td>\n",
       "      <td>12</td>\n",
       "      <td>Room_Type 7</td>\n",
       "      <td>5</td>\n",
       "    </tr>\n",
       "  </tbody>\n",
       "</table>\n",
       "<p>87 rows × 4 columns</p>\n",
       "</div>"
      ],
      "text/plain": [
       "    arrival_year  arrival_month room_type_reserved  total_nights\n",
       "0           2017              7        Room_Type 1           811\n",
       "1           2017              7        Room_Type 2            13\n",
       "2           2017              7        Room_Type 4            10\n",
       "3           2017              8        Room_Type 1           635\n",
       "4           2017              8        Room_Type 2            34\n",
       "..           ...            ...                ...           ...\n",
       "82          2018             12        Room_Type 1          1171\n",
       "83          2018             12        Room_Type 2            62\n",
       "84          2018             12        Room_Type 4           282\n",
       "85          2018             12        Room_Type 6            86\n",
       "86          2018             12        Room_Type 7             5\n",
       "\n",
       "[87 rows x 4 columns]"
      ]
     },
     "execution_count": 34,
     "metadata": {},
     "output_type": "execute_result"
    }
   ],
   "source": [
    "# Let's calculate what the percentage of the total revenue is lost due to cancellations\n",
    "cancelled_nights = reservations_df[reservations_df[\"booking_status\"] == \"Canceled\"]\n",
    "cancelled_summary = cancelled_nights[[\"arrival_year\", \"arrival_month\", \"room_type_reserved\", \"total_nights\"]]\\\n",
    ".groupby([\"arrival_year\",\"arrival_month\", \"room_type_reserved\"]).sum().reset_index()\n",
    "cancelled_summary"
   ]
  },
  {
   "cell_type": "code",
   "execution_count": 35,
   "id": "68b51312",
   "metadata": {},
   "outputs": [
    {
     "data": {
      "text/html": [
       "<div>\n",
       "<style scoped>\n",
       "    .dataframe tbody tr th:only-of-type {\n",
       "        vertical-align: middle;\n",
       "    }\n",
       "\n",
       "    .dataframe tbody tr th {\n",
       "        vertical-align: top;\n",
       "    }\n",
       "\n",
       "    .dataframe thead th {\n",
       "        text-align: right;\n",
       "    }\n",
       "</style>\n",
       "<table border=\"1\" class=\"dataframe\">\n",
       "  <thead>\n",
       "    <tr style=\"text-align: right;\">\n",
       "      <th></th>\n",
       "      <th>arrival_year</th>\n",
       "      <th>arrival_month</th>\n",
       "      <th>room_type_reserved</th>\n",
       "      <th>total_nights</th>\n",
       "      <th>avg_price_per_room</th>\n",
       "    </tr>\n",
       "  </thead>\n",
       "  <tbody>\n",
       "    <tr>\n",
       "      <th>0</th>\n",
       "      <td>2017</td>\n",
       "      <td>7</td>\n",
       "      <td>Room_Type 1</td>\n",
       "      <td>811</td>\n",
       "      <td>86.013152</td>\n",
       "    </tr>\n",
       "    <tr>\n",
       "      <th>1</th>\n",
       "      <td>2017</td>\n",
       "      <td>7</td>\n",
       "      <td>Room_Type 2</td>\n",
       "      <td>13</td>\n",
       "      <td>82.316667</td>\n",
       "    </tr>\n",
       "    <tr>\n",
       "      <th>2</th>\n",
       "      <td>2017</td>\n",
       "      <td>7</td>\n",
       "      <td>Room_Type 4</td>\n",
       "      <td>10</td>\n",
       "      <td>100.916667</td>\n",
       "    </tr>\n",
       "    <tr>\n",
       "      <th>3</th>\n",
       "      <td>2017</td>\n",
       "      <td>8</td>\n",
       "      <td>Room_Type 1</td>\n",
       "      <td>635</td>\n",
       "      <td>92.196323</td>\n",
       "    </tr>\n",
       "    <tr>\n",
       "      <th>4</th>\n",
       "      <td>2017</td>\n",
       "      <td>8</td>\n",
       "      <td>Room_Type 2</td>\n",
       "      <td>34</td>\n",
       "      <td>72.867368</td>\n",
       "    </tr>\n",
       "    <tr>\n",
       "      <th>...</th>\n",
       "      <td>...</td>\n",
       "      <td>...</td>\n",
       "      <td>...</td>\n",
       "      <td>...</td>\n",
       "      <td>...</td>\n",
       "    </tr>\n",
       "    <tr>\n",
       "      <th>82</th>\n",
       "      <td>2018</td>\n",
       "      <td>12</td>\n",
       "      <td>Room_Type 1</td>\n",
       "      <td>1171</td>\n",
       "      <td>86.356871</td>\n",
       "    </tr>\n",
       "    <tr>\n",
       "      <th>83</th>\n",
       "      <td>2018</td>\n",
       "      <td>12</td>\n",
       "      <td>Room_Type 2</td>\n",
       "      <td>62</td>\n",
       "      <td>86.662571</td>\n",
       "    </tr>\n",
       "    <tr>\n",
       "      <th>84</th>\n",
       "      <td>2018</td>\n",
       "      <td>12</td>\n",
       "      <td>Room_Type 4</td>\n",
       "      <td>282</td>\n",
       "      <td>119.609710</td>\n",
       "    </tr>\n",
       "    <tr>\n",
       "      <th>85</th>\n",
       "      <td>2018</td>\n",
       "      <td>12</td>\n",
       "      <td>Room_Type 6</td>\n",
       "      <td>86</td>\n",
       "      <td>168.060000</td>\n",
       "    </tr>\n",
       "    <tr>\n",
       "      <th>86</th>\n",
       "      <td>2018</td>\n",
       "      <td>12</td>\n",
       "      <td>Room_Type 7</td>\n",
       "      <td>5</td>\n",
       "      <td>191.730000</td>\n",
       "    </tr>\n",
       "  </tbody>\n",
       "</table>\n",
       "<p>87 rows × 5 columns</p>\n",
       "</div>"
      ],
      "text/plain": [
       "    arrival_year  arrival_month room_type_reserved  total_nights  \\\n",
       "0           2017              7        Room_Type 1           811   \n",
       "1           2017              7        Room_Type 2            13   \n",
       "2           2017              7        Room_Type 4            10   \n",
       "3           2017              8        Room_Type 1           635   \n",
       "4           2017              8        Room_Type 2            34   \n",
       "..           ...            ...                ...           ...   \n",
       "82          2018             12        Room_Type 1          1171   \n",
       "83          2018             12        Room_Type 2            62   \n",
       "84          2018             12        Room_Type 4           282   \n",
       "85          2018             12        Room_Type 6            86   \n",
       "86          2018             12        Room_Type 7             5   \n",
       "\n",
       "    avg_price_per_room  \n",
       "0            86.013152  \n",
       "1            82.316667  \n",
       "2           100.916667  \n",
       "3            92.196323  \n",
       "4            72.867368  \n",
       "..                 ...  \n",
       "82           86.356871  \n",
       "83           86.662571  \n",
       "84          119.609710  \n",
       "85          168.060000  \n",
       "86          191.730000  \n",
       "\n",
       "[87 rows x 5 columns]"
      ]
     },
     "execution_count": 35,
     "metadata": {},
     "output_type": "execute_result"
    }
   ],
   "source": [
    "# Now let's combine the two to do our calculation\n",
    "full_cancelled_info =cancelled_summary.merge(avg_room_prices,\n",
    "                           how=\"left\",\n",
    "                           on=[\"arrival_year\", \"arrival_month\", \"room_type_reserved\"]\n",
    "                          ).fillna(room_prices[\"avg_price_per_room\"].mean())\n",
    "full_cancelled_info"
   ]
  },
  {
   "cell_type": "code",
   "execution_count": 36,
   "id": "8399335a",
   "metadata": {},
   "outputs": [
    {
     "data": {
      "text/html": [
       "<div>\n",
       "<style scoped>\n",
       "    .dataframe tbody tr th:only-of-type {\n",
       "        vertical-align: middle;\n",
       "    }\n",
       "\n",
       "    .dataframe tbody tr th {\n",
       "        vertical-align: top;\n",
       "    }\n",
       "\n",
       "    .dataframe thead th {\n",
       "        text-align: right;\n",
       "    }\n",
       "</style>\n",
       "<table border=\"1\" class=\"dataframe\">\n",
       "  <thead>\n",
       "    <tr style=\"text-align: right;\">\n",
       "      <th></th>\n",
       "      <th>arrival_year</th>\n",
       "      <th>arrival_month</th>\n",
       "      <th>room_type_reserved</th>\n",
       "      <th>total_nights</th>\n",
       "      <th>avg_price_per_room</th>\n",
       "      <th>potential_revenue</th>\n",
       "    </tr>\n",
       "  </thead>\n",
       "  <tbody>\n",
       "    <tr>\n",
       "      <th>63</th>\n",
       "      <td>2018</td>\n",
       "      <td>9</td>\n",
       "      <td>Room_Type 1</td>\n",
       "      <td>3173</td>\n",
       "      <td>113.094749</td>\n",
       "      <td>358849.639857</td>\n",
       "    </tr>\n",
       "    <tr>\n",
       "      <th>69</th>\n",
       "      <td>2018</td>\n",
       "      <td>10</td>\n",
       "      <td>Room_Type 1</td>\n",
       "      <td>3426</td>\n",
       "      <td>104.169808</td>\n",
       "      <td>356885.762702</td>\n",
       "    </tr>\n",
       "    <tr>\n",
       "      <th>57</th>\n",
       "      <td>2018</td>\n",
       "      <td>8</td>\n",
       "      <td>Room_Type 1</td>\n",
       "      <td>2982</td>\n",
       "      <td>110.373928</td>\n",
       "      <td>329135.054439</td>\n",
       "    </tr>\n",
       "    <tr>\n",
       "      <th>44</th>\n",
       "      <td>2018</td>\n",
       "      <td>6</td>\n",
       "      <td>Room_Type 1</td>\n",
       "      <td>2928</td>\n",
       "      <td>107.140373</td>\n",
       "      <td>313707.010757</td>\n",
       "    </tr>\n",
       "    <tr>\n",
       "      <th>51</th>\n",
       "      <td>2018</td>\n",
       "      <td>7</td>\n",
       "      <td>Room_Type 1</td>\n",
       "      <td>2581</td>\n",
       "      <td>105.175074</td>\n",
       "      <td>271456.865642</td>\n",
       "    </tr>\n",
       "    <tr>\n",
       "      <th>...</th>\n",
       "      <td>...</td>\n",
       "      <td>...</td>\n",
       "      <td>...</td>\n",
       "      <td>...</td>\n",
       "      <td>...</td>\n",
       "      <td>...</td>\n",
       "    </tr>\n",
       "    <tr>\n",
       "      <th>20</th>\n",
       "      <td>2018</td>\n",
       "      <td>1</td>\n",
       "      <td>Room_Type 4</td>\n",
       "      <td>5</td>\n",
       "      <td>83.242895</td>\n",
       "      <td>416.214474</td>\n",
       "    </tr>\n",
       "    <tr>\n",
       "      <th>71</th>\n",
       "      <td>2018</td>\n",
       "      <td>10</td>\n",
       "      <td>Room_Type 3</td>\n",
       "      <td>3</td>\n",
       "      <td>130.000000</td>\n",
       "      <td>390.000000</td>\n",
       "    </tr>\n",
       "    <tr>\n",
       "      <th>17</th>\n",
       "      <td>2017</td>\n",
       "      <td>12</td>\n",
       "      <td>Room_Type 4</td>\n",
       "      <td>3</td>\n",
       "      <td>91.001839</td>\n",
       "      <td>273.005517</td>\n",
       "    </tr>\n",
       "    <tr>\n",
       "      <th>16</th>\n",
       "      <td>2017</td>\n",
       "      <td>12</td>\n",
       "      <td>Room_Type 2</td>\n",
       "      <td>3</td>\n",
       "      <td>84.509825</td>\n",
       "      <td>253.529474</td>\n",
       "    </tr>\n",
       "    <tr>\n",
       "      <th>46</th>\n",
       "      <td>2018</td>\n",
       "      <td>6</td>\n",
       "      <td>Room_Type 3</td>\n",
       "      <td>2</td>\n",
       "      <td>80.750000</td>\n",
       "      <td>161.500000</td>\n",
       "    </tr>\n",
       "  </tbody>\n",
       "</table>\n",
       "<p>87 rows × 6 columns</p>\n",
       "</div>"
      ],
      "text/plain": [
       "    arrival_year  arrival_month room_type_reserved  total_nights  \\\n",
       "63          2018              9        Room_Type 1          3173   \n",
       "69          2018             10        Room_Type 1          3426   \n",
       "57          2018              8        Room_Type 1          2982   \n",
       "44          2018              6        Room_Type 1          2928   \n",
       "51          2018              7        Room_Type 1          2581   \n",
       "..           ...            ...                ...           ...   \n",
       "20          2018              1        Room_Type 4             5   \n",
       "71          2018             10        Room_Type 3             3   \n",
       "17          2017             12        Room_Type 4             3   \n",
       "16          2017             12        Room_Type 2             3   \n",
       "46          2018              6        Room_Type 3             2   \n",
       "\n",
       "    avg_price_per_room  potential_revenue  \n",
       "63          113.094749      358849.639857  \n",
       "69          104.169808      356885.762702  \n",
       "57          110.373928      329135.054439  \n",
       "44          107.140373      313707.010757  \n",
       "51          105.175074      271456.865642  \n",
       "..                 ...                ...  \n",
       "20           83.242895         416.214474  \n",
       "71          130.000000         390.000000  \n",
       "17           91.001839         273.005517  \n",
       "16           84.509825         253.529474  \n",
       "46           80.750000         161.500000  \n",
       "\n",
       "[87 rows x 6 columns]"
      ]
     },
     "execution_count": 36,
     "metadata": {},
     "output_type": "execute_result"
    }
   ],
   "source": [
    "# Now we calculate what the total cost is\n",
    "full_cancelled_info[\"potential_revenue\"] = full_cancelled_info[\"total_nights\"]*full_cancelled_info[\"avg_price_per_room\"]\n",
    "full_cancelled_info.sort_values('potential_revenue', ascending=False)"
   ]
  },
  {
   "cell_type": "code",
   "execution_count": 37,
   "id": "449a0e69",
   "metadata": {},
   "outputs": [
    {
     "data": {
      "text/plain": [
       "4309079.845785491"
      ]
     },
     "execution_count": 37,
     "metadata": {},
     "output_type": "execute_result"
    }
   ],
   "source": [
    "# What is the total revenue lost to cancelled bookings\n",
    "total_lost_rev_cancel = full_cancelled_info[\"potential_revenue\"].sum()\n",
    "total_lost_rev_cancel"
   ]
  },
  {
   "cell_type": "code",
   "execution_count": 38,
   "id": "6776f79a",
   "metadata": {},
   "outputs": [
    {
     "data": {
      "text/plain": [
       "37.974565924741626"
      ]
     },
     "execution_count": 38,
     "metadata": {},
     "output_type": "execute_result"
    }
   ],
   "source": [
    "# What percentage does that represent over the total revenue\n",
    "total_lost_rev_cancel/total_revenue*100"
   ]
  },
  {
   "cell_type": "markdown",
   "id": "50ece086",
   "metadata": {},
   "source": [
    "# Initial findings of the Analysis\n",
    "A potential of 37\\% of the current total revenue is being lost due to cancelled bookings, mostly from bookings of Room_Type_1 during the peak season.\n",
    "\n",
    "Our complementary booking program is sustainable as it currently only represents only 0.7% of revenue of the entire period."
   ]
  },
  {
   "cell_type": "markdown",
   "id": "1535b310",
   "metadata": {},
   "source": [
    "# Assignment:\n",
    "\n",
    "Perform the same analysis conducted for complementary bookings on cancelled bookings, present your conclusions."
   ]
  },
  {
   "attachments": {},
   "cell_type": "markdown",
   "id": "fdc6b606",
   "metadata": {},
   "source": [
    "### who are the ones cancelling more"
   ]
  },
  {
   "cell_type": "code",
   "execution_count": 39,
   "id": "0794982c",
   "metadata": {},
   "outputs": [],
   "source": [
    "cancelled_df = reservations_df[reservations_df[\"booking_status\"] == \"Canceled\"].copy()\n"
   ]
  },
  {
   "cell_type": "code",
   "execution_count": 40,
   "id": "42b92eeb",
   "metadata": {},
   "outputs": [
    {
     "data": {
      "text/plain": [
       "<seaborn.axisgrid.FacetGrid at 0x2194dea3ac0>"
      ]
     },
     "execution_count": 40,
     "metadata": {},
     "output_type": "execute_result"
    },
    {
     "data": {
      "image/png": "[encoded data removed]",
      "text/plain": [
       "<Figure size 666.486x500 with 1 Axes>"
      ]
     },
     "metadata": {},
     "output_type": "display_data"
    }
   ],
   "source": [
    "sns.catplot(x='no_of_weekend_nights', data=cancelled_df, hue=\"market_segment_type\", kind='count').set(title=\"Cancellations By Market Segment Type\")"
   ]
  },
  {
   "attachments": {},
   "cell_type": "markdown",
   "id": "f65fc7cf",
   "metadata": {},
   "source": [
    "the most cancellations are by the online market segment mostly during the weekdays. "
   ]
  },
  {
   "cell_type": "code",
   "execution_count": 41,
   "id": "24a56540",
   "metadata": {},
   "outputs": [
    {
     "data": {
      "text/plain": [
       "<seaborn.axisgrid.FacetGrid at 0x2194dfc8340>"
      ]
     },
     "execution_count": 41,
     "metadata": {},
     "output_type": "execute_result"
    },
    {
     "data": {
      "image/png": "[encoded data removed]",
      "text/plain": [
       "<Figure size 653.236x500 with 1 Axes>"
      ]
     },
     "metadata": {},
     "output_type": "display_data"
    }
   ],
   "source": [
    "cancelled_df[\"total_nights\"] = cancelled_df[\"no_of_weekend_nights\"] + cancelled_df[\"no_of_week_nights\"]\n",
    "sns.catplot(y=\"total_nights\", data=cancelled_df, hue=\"room_type_reserved\", kind='count').set(title=\"Cancellations By Room Type\")"
   ]
  },
  {
   "attachments": {},
   "cell_type": "markdown",
   "id": "15d91f8c",
   "metadata": {},
   "source": [
    "Most bookings cancelled are for room type 1 which booked mostly for 3 and 2 nights total. "
   ]
  },
  {
   "attachments": {},
   "cell_type": "markdown",
   "id": "26cea42b",
   "metadata": {},
   "source": [
    "### When are they canceling more"
   ]
  },
  {
   "cell_type": "code",
   "execution_count": 42,
   "id": "5e53b264",
   "metadata": {},
   "outputs": [],
   "source": [
    "cancelled_df[\"date\"] = cancelled_df[\"arrival_year\"].astype(\"str\")+\"_\" + cancelled_df[\"arrival_month\"].astype(\"str\")\n",
    "dates_cancelled = cancelled_df[[\"room_type_reserved\", \"date\"]]"
   ]
  },
  {
   "cell_type": "code",
   "execution_count": 43,
   "id": "0a4a0e3c",
   "metadata": {},
   "outputs": [
    {
     "data": {
      "text/plain": [
       "<seaborn.axisgrid.FacetGrid at 0x2194e6c3670>"
      ]
     },
     "execution_count": 43,
     "metadata": {},
     "output_type": "execute_result"
    },
    {
     "data": {
      "image/png": "[encoded data removed]",
      "text/plain": [
       "<Figure size 653.236x500 with 1 Axes>"
      ]
     },
     "metadata": {},
     "output_type": "display_data"
    }
   ],
   "source": [
    "order = [f\"2017_{a}\" for a in range(7,13,1)] + [f\"2018_{a}\" for a in range(1,13,1)]\n",
    "sns.catplot(y=\"date\", data=dates_cancelled, hue=\"room_type_reserved\", kind='count', order=order).set(title='Bookings Cancelled by Month')"
   ]
  },
  {
   "attachments": {},
   "cell_type": "markdown",
   "id": "ffd22ff6",
   "metadata": {},
   "source": [
    "most of the cancellations occur during the summer months. Roughly from June to October. "
   ]
  },
  {
   "attachments": {},
   "cell_type": "markdown",
   "id": "a832984c",
   "metadata": {},
   "source": [
    "## how much revenue is lost due to cancelled bookings"
   ]
  },
  {
   "cell_type": "code",
   "execution_count": 44,
   "id": "e8154d61",
   "metadata": {},
   "outputs": [
    {
     "data": {
      "text/plain": [
       "4296174.07"
      ]
     },
     "execution_count": 44,
     "metadata": {},
     "output_type": "execute_result"
    }
   ],
   "source": [
    "cancelled_df['revenue'] = cancelled_df[\"total_nights\"] * cancelled_df['avg_price_per_room']\n",
    "cancelled_possible_revenue = cancelled_df['revenue'].sum()\n",
    "cancelled_possible_revenue"
   ]
  },
  {
   "attachments": {},
   "cell_type": "markdown",
   "id": "5759bac5",
   "metadata": {},
   "source": [
    "Approximately 4.3 million dollars is lost due to cancelled bookings."
   ]
  },
  {
   "attachments": {},
   "cell_type": "markdown",
   "id": "b2dc17bd",
   "metadata": {},
   "source": [
    "### What percentage of total possible revenue is lost due to cancelled bookings"
   ]
  },
  {
   "cell_type": "code",
   "execution_count": 45,
   "id": "a95014e7",
   "metadata": {},
   "outputs": [],
   "source": [
    "total_possible_rev = reservations_df['revenue'].sum()"
   ]
  },
  {
   "cell_type": "code",
   "execution_count": 46,
   "id": "d93d9dba",
   "metadata": {},
   "outputs": [
    {
     "data": {
      "text/plain": [
       "37.86083138026448"
      ]
     },
     "execution_count": 46,
     "metadata": {},
     "output_type": "execute_result"
    }
   ],
   "source": [
    "cancelled_possible_revenue / total_possible_rev * 100"
   ]
  },
  {
   "attachments": {},
   "cell_type": "markdown",
   "id": "176aabc1",
   "metadata": {},
   "source": [
    "around 37% of the total possible revenue is lost due to cancelled bookings. "
   ]
  }
 ],
 "metadata": {
  "kernelspec": {
   "display_name": "aaai_stats_tutorial",
   "language": "python",
   "name": "aaai_stats_tutorial"
  },
  "language_info": {
   "codemirror_mode": {
    "name": "ipython",
    "version": 3
   },
   "file_extension": ".py",
   "mimetype": "text/x-python",
   "name": "python",
   "nbconvert_exporter": "python",
   "pygments_lexer": "ipython3",
   "version": "3.10.6"
  }
 },
 "nbformat": 4,
 "nbformat_minor": 5
}
